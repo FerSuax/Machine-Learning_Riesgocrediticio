{
 "cells": [
  {
   "cell_type": "markdown",
   "source": "### Machine Learning - Clasificación de riesgo crediticio\nEn esto proyecto se utilizan algoritmos de machine learning para la clasificación del riesgo crediticio utilizando datos crediticios alemanes. Para llevar acabo esta tarea se utilizo los algoritmos de arboles de decisión, bosques aleatorios, regresión logística y máquinas de vectores de soporte obteniendo una precisión entre 62% y 72%.",
   "metadata": {
    "tags": [],
    "cell_id": "00000-e7da0a61-dbfd-4cb9-8de6-f35da18ec405",
    "deepnote_app_coordinates": {
     "x": 0,
     "y": 360,
     "w": 12,
     "h": 5
    },
    "deepnote_cell_type": "markdown"
   }
  },
  {
   "cell_type": "markdown",
   "source": "### 1. Importamos las librerias\n\n",
   "metadata": {
    "tags": [],
    "cell_id": "00000-90cd06b4-8bfb-48fb-94ba-39ffd724fd43",
    "deepnote_app_coordinates": {
     "x": 0,
     "y": null,
     "w": 12,
     "h": 5
    },
    "deepnote_cell_type": "markdown"
   }
  },
  {
   "cell_type": "code",
   "metadata": {
    "tags": [],
    "cell_id": "00001-4f7609ce-c064-478b-9fae-41fb58a3aada",
    "deepnote_to_be_reexecuted": false,
    "source_hash": "922fdce9",
    "execution_start": 1640218646704,
    "execution_millis": 0,
    "deepnote_app_coordinates": {
     "x": 0,
     "y": 6,
     "w": 12,
     "h": 5
    },
    "deepnote_cell_type": "code"
   },
   "source": "# Librerias\nimport pandas as pd # Manejo de DataFrame\nimport matplotlib.pyplot as plt # Libreria gráfica\nimport seaborn as sns # Libreria gráfica\nimport numpy as np # Libreria de algebra lineal\nimport pylab as pl # Módulo que proporciona un espacio de nombres similar a Matlab\nfrom sklearn import metrics # Validar nuestro metodo\nfrom sklearn.model_selection import train_test_split # Entrenar y divir la información\nfrom sklearn.tree import DecisionTreeClassifier # Arboles de decisión\nfrom sklearn.ensemble import RandomForestClassifier # Bosques aleatorios\nfrom sklearn.linear_model import LogisticRegression # Regresión logistica\nfrom sklearn.svm import SVC # Máquinas de vectores de soporte\n\n",
   "execution_count": null,
   "outputs": []
  },
  {
   "cell_type": "markdown",
   "source": "### 2. Cargamos el dataset",
   "metadata": {
    "tags": [],
    "cell_id": "00002-32961610-8c5f-40b8-9975-b3f6785ec837",
    "deepnote_app_coordinates": {
     "x": 0,
     "y": 12,
     "w": 12,
     "h": 5
    },
    "deepnote_cell_type": "markdown"
   }
  },
  {
   "cell_type": "code",
   "metadata": {
    "tags": [],
    "cell_id": "00003-7c2eaa6d-dcd2-4196-9d07-6152aca0cff8",
    "deepnote_to_be_reexecuted": false,
    "source_hash": "ffe8a24",
    "execution_start": 1640215937384,
    "execution_millis": 13,
    "deepnote_app_coordinates": {
     "x": 0,
     "y": 18,
     "w": 12,
     "h": 5
    },
    "deepnote_cell_type": "code"
   },
   "source": "# Lectura el dataset\ncredit_risk = pd.read_csv(\"/work/credit_data.csv\")",
   "execution_count": null,
   "outputs": []
  },
  {
   "cell_type": "code",
   "metadata": {
    "tags": [],
    "cell_id": "00004-38fef0d5-ade7-41c1-a8bc-726bfe3063df",
    "deepnote_to_be_reexecuted": false,
    "source_hash": "c1d2d86a",
    "execution_start": 1640215937448,
    "execution_millis": 83,
    "deepnote_app_coordinates": {
     "x": 0,
     "y": 24,
     "w": 12,
     "h": 5
    },
    "deepnote_cell_type": "code"
   },
   "source": "# Primeras 5 filas del dataset\ncredit_risk.head()",
   "execution_count": null,
   "outputs": [
    {
     "output_type": "execute_result",
     "execution_count": 3,
     "data": {
      "application/vnd.deepnote.dataframe.v3+json": {
       "column_count": 11,
       "row_count": 5,
       "columns": [
        {
         "name": "Unnamed: 0",
         "dtype": "int64",
         "stats": {
          "unique_count": 5,
          "nan_count": 0,
          "min": "0",
          "max": "4",
          "histogram": [
           {
            "bin_start": 0,
            "bin_end": 0.4,
            "count": 1
           },
           {
            "bin_start": 0.4,
            "bin_end": 0.8,
            "count": 0
           },
           {
            "bin_start": 0.8,
            "bin_end": 1.2000000000000002,
            "count": 1
           },
           {
            "bin_start": 1.2000000000000002,
            "bin_end": 1.6,
            "count": 0
           },
           {
            "bin_start": 1.6,
            "bin_end": 2,
            "count": 0
           },
           {
            "bin_start": 2,
            "bin_end": 2.4000000000000004,
            "count": 1
           },
           {
            "bin_start": 2.4000000000000004,
            "bin_end": 2.8000000000000003,
            "count": 0
           },
           {
            "bin_start": 2.8000000000000003,
            "bin_end": 3.2,
            "count": 1
           },
           {
            "bin_start": 3.2,
            "bin_end": 3.6,
            "count": 0
           },
           {
            "bin_start": 3.6,
            "bin_end": 4,
            "count": 1
           }
          ]
         }
        },
        {
         "name": "Age",
         "dtype": "int64",
         "stats": {
          "unique_count": 5,
          "nan_count": 0,
          "min": "22",
          "max": "67",
          "histogram": [
           {
            "bin_start": 22,
            "bin_end": 26.5,
            "count": 1
           },
           {
            "bin_start": 26.5,
            "bin_end": 31,
            "count": 0
           },
           {
            "bin_start": 31,
            "bin_end": 35.5,
            "count": 0
           },
           {
            "bin_start": 35.5,
            "bin_end": 40,
            "count": 0
           },
           {
            "bin_start": 40,
            "bin_end": 44.5,
            "count": 0
           },
           {
            "bin_start": 44.5,
            "bin_end": 49,
            "count": 1
           },
           {
            "bin_start": 49,
            "bin_end": 53.5,
            "count": 2
           },
           {
            "bin_start": 53.5,
            "bin_end": 58,
            "count": 0
           },
           {
            "bin_start": 58,
            "bin_end": 62.5,
            "count": 0
           },
           {
            "bin_start": 62.5,
            "bin_end": 67,
            "count": 1
           }
          ]
         }
        },
        {
         "name": "Sex",
         "dtype": "object",
         "stats": {
          "unique_count": 2,
          "nan_count": 0,
          "categories": [
           {
            "name": "male",
            "count": 4
           },
           {
            "name": "female",
            "count": 1
           }
          ]
         }
        },
        {
         "name": "Job",
         "dtype": "int64",
         "stats": {
          "unique_count": 2,
          "nan_count": 0,
          "min": "1",
          "max": "2",
          "histogram": [
           {
            "bin_start": 1,
            "bin_end": 1.1,
            "count": 1
           },
           {
            "bin_start": 1.1,
            "bin_end": 1.2,
            "count": 0
           },
           {
            "bin_start": 1.2,
            "bin_end": 1.3,
            "count": 0
           },
           {
            "bin_start": 1.3,
            "bin_end": 1.4,
            "count": 0
           },
           {
            "bin_start": 1.4,
            "bin_end": 1.5,
            "count": 0
           },
           {
            "bin_start": 1.5,
            "bin_end": 1.6,
            "count": 0
           },
           {
            "bin_start": 1.6,
            "bin_end": 1.7000000000000002,
            "count": 0
           },
           {
            "bin_start": 1.7000000000000002,
            "bin_end": 1.8,
            "count": 0
           },
           {
            "bin_start": 1.8,
            "bin_end": 1.9,
            "count": 0
           },
           {
            "bin_start": 1.9,
            "bin_end": 2,
            "count": 4
           }
          ]
         }
        },
        {
         "name": "Housing",
         "dtype": "object",
         "stats": {
          "unique_count": 2,
          "nan_count": 0,
          "categories": [
           {
            "name": "own",
            "count": 3
           },
           {
            "name": "free",
            "count": 2
           }
          ]
         }
        },
        {
         "name": "Saving accounts",
         "dtype": "object",
         "stats": {
          "unique_count": 1,
          "nan_count": 1,
          "categories": [
           {
            "name": "little",
            "count": 4
           },
           {
            "name": "Missing",
            "count": 1
           }
          ]
         }
        },
        {
         "name": "Checking account",
         "dtype": "object",
         "stats": {
          "unique_count": 2,
          "nan_count": 1,
          "categories": [
           {
            "name": "little",
            "count": 3
           },
           {
            "name": "moderate",
            "count": 1
           },
           {
            "name": "Missing",
            "count": 1
           }
          ]
         }
        },
        {
         "name": "Credit amount",
         "dtype": "int64",
         "stats": {
          "unique_count": 5,
          "nan_count": 0,
          "min": "1169",
          "max": "7882",
          "histogram": [
           {
            "bin_start": 1169,
            "bin_end": 1840.3,
            "count": 1
           },
           {
            "bin_start": 1840.3,
            "bin_end": 2511.6,
            "count": 1
           },
           {
            "bin_start": 2511.6,
            "bin_end": 3182.8999999999996,
            "count": 0
           },
           {
            "bin_start": 3182.8999999999996,
            "bin_end": 3854.2,
            "count": 0
           },
           {
            "bin_start": 3854.2,
            "bin_end": 4525.5,
            "count": 0
           },
           {
            "bin_start": 4525.5,
            "bin_end": 5196.799999999999,
            "count": 1
           },
           {
            "bin_start": 5196.799999999999,
            "bin_end": 5868.099999999999,
            "count": 0
           },
           {
            "bin_start": 5868.099999999999,
            "bin_end": 6539.4,
            "count": 1
           },
           {
            "bin_start": 6539.4,
            "bin_end": 7210.7,
            "count": 0
           },
           {
            "bin_start": 7210.7,
            "bin_end": 7882,
            "count": 1
           }
          ]
         }
        },
        {
         "name": "Duration",
         "dtype": "int64",
         "stats": {
          "unique_count": 5,
          "nan_count": 0,
          "min": "6",
          "max": "48",
          "histogram": [
           {
            "bin_start": 6,
            "bin_end": 10.2,
            "count": 1
           },
           {
            "bin_start": 10.2,
            "bin_end": 14.4,
            "count": 1
           },
           {
            "bin_start": 14.4,
            "bin_end": 18.6,
            "count": 0
           },
           {
            "bin_start": 18.6,
            "bin_end": 22.8,
            "count": 0
           },
           {
            "bin_start": 22.8,
            "bin_end": 27,
            "count": 1
           },
           {
            "bin_start": 27,
            "bin_end": 31.200000000000003,
            "count": 0
           },
           {
            "bin_start": 31.200000000000003,
            "bin_end": 35.400000000000006,
            "count": 0
           },
           {
            "bin_start": 35.400000000000006,
            "bin_end": 39.6,
            "count": 0
           },
           {
            "bin_start": 39.6,
            "bin_end": 43.800000000000004,
            "count": 1
           },
           {
            "bin_start": 43.800000000000004,
            "bin_end": 48,
            "count": 1
           }
          ]
         }
        },
        {
         "name": "Purpose",
         "dtype": "object",
         "stats": {
          "unique_count": 4,
          "nan_count": 0,
          "categories": [
           {
            "name": "radio/TV",
            "count": 2
           },
           {
            "name": "education",
            "count": 1
           },
           {
            "name": "2 others",
            "count": 2
           }
          ]
         }
        },
        {
         "name": "Risk",
         "dtype": "object",
         "stats": {
          "unique_count": 2,
          "nan_count": 0,
          "categories": [
           {
            "name": "good",
            "count": 3
           },
           {
            "name": "bad",
            "count": 2
           }
          ]
         }
        },
        {
         "name": "_deepnote_index_column",
         "dtype": "int64"
        }
       ],
       "rows": [
        {
         "Unnamed: 0": 0,
         "Age": 67,
         "Sex": "male",
         "Job": 2,
         "Housing": "own",
         "Saving accounts": "nan",
         "Checking account": "little",
         "Credit amount": 1169,
         "Duration": 6,
         "Purpose": "radio/TV",
         "Risk": "good",
         "_deepnote_index_column": 0
        },
        {
         "Unnamed: 0": 1,
         "Age": 22,
         "Sex": "female",
         "Job": 2,
         "Housing": "own",
         "Saving accounts": "little",
         "Checking account": "moderate",
         "Credit amount": 5951,
         "Duration": 48,
         "Purpose": "radio/TV",
         "Risk": "bad",
         "_deepnote_index_column": 1
        },
        {
         "Unnamed: 0": 2,
         "Age": 49,
         "Sex": "male",
         "Job": 1,
         "Housing": "own",
         "Saving accounts": "little",
         "Checking account": "nan",
         "Credit amount": 2096,
         "Duration": 12,
         "Purpose": "education",
         "Risk": "good",
         "_deepnote_index_column": 2
        },
        {
         "Unnamed: 0": 3,
         "Age": 45,
         "Sex": "male",
         "Job": 2,
         "Housing": "free",
         "Saving accounts": "little",
         "Checking account": "little",
         "Credit amount": 7882,
         "Duration": 42,
         "Purpose": "furniture/equipment",
         "Risk": "good",
         "_deepnote_index_column": 3
        },
        {
         "Unnamed: 0": 4,
         "Age": 53,
         "Sex": "male",
         "Job": 2,
         "Housing": "free",
         "Saving accounts": "little",
         "Checking account": "little",
         "Credit amount": 4870,
         "Duration": 24,
         "Purpose": "car",
         "Risk": "bad",
         "_deepnote_index_column": 4
        }
       ]
      },
      "text/plain": "   Unnamed: 0  Age     Sex  Job Housing Saving accounts Checking account  \\\n0           0   67    male    2     own             NaN           little   \n1           1   22  female    2     own          little         moderate   \n2           2   49    male    1     own          little              NaN   \n3           3   45    male    2    free          little           little   \n4           4   53    male    2    free          little           little   \n\n   Credit amount  Duration              Purpose  Risk  \n0           1169         6             radio/TV  good  \n1           5951        48             radio/TV   bad  \n2           2096        12            education  good  \n3           7882        42  furniture/equipment  good  \n4           4870        24                  car   bad  ",
      "text/html": "<div>\n<style scoped>\n    .dataframe tbody tr th:only-of-type {\n        vertical-align: middle;\n    }\n\n    .dataframe tbody tr th {\n        vertical-align: top;\n    }\n\n    .dataframe thead th {\n        text-align: right;\n    }\n</style>\n<table border=\"1\" class=\"dataframe\">\n  <thead>\n    <tr style=\"text-align: right;\">\n      <th></th>\n      <th>Unnamed: 0</th>\n      <th>Age</th>\n      <th>Sex</th>\n      <th>Job</th>\n      <th>Housing</th>\n      <th>Saving accounts</th>\n      <th>Checking account</th>\n      <th>Credit amount</th>\n      <th>Duration</th>\n      <th>Purpose</th>\n      <th>Risk</th>\n    </tr>\n  </thead>\n  <tbody>\n    <tr>\n      <th>0</th>\n      <td>0</td>\n      <td>67</td>\n      <td>male</td>\n      <td>2</td>\n      <td>own</td>\n      <td>NaN</td>\n      <td>little</td>\n      <td>1169</td>\n      <td>6</td>\n      <td>radio/TV</td>\n      <td>good</td>\n    </tr>\n    <tr>\n      <th>1</th>\n      <td>1</td>\n      <td>22</td>\n      <td>female</td>\n      <td>2</td>\n      <td>own</td>\n      <td>little</td>\n      <td>moderate</td>\n      <td>5951</td>\n      <td>48</td>\n      <td>radio/TV</td>\n      <td>bad</td>\n    </tr>\n    <tr>\n      <th>2</th>\n      <td>2</td>\n      <td>49</td>\n      <td>male</td>\n      <td>1</td>\n      <td>own</td>\n      <td>little</td>\n      <td>NaN</td>\n      <td>2096</td>\n      <td>12</td>\n      <td>education</td>\n      <td>good</td>\n    </tr>\n    <tr>\n      <th>3</th>\n      <td>3</td>\n      <td>45</td>\n      <td>male</td>\n      <td>2</td>\n      <td>free</td>\n      <td>little</td>\n      <td>little</td>\n      <td>7882</td>\n      <td>42</td>\n      <td>furniture/equipment</td>\n      <td>good</td>\n    </tr>\n    <tr>\n      <th>4</th>\n      <td>4</td>\n      <td>53</td>\n      <td>male</td>\n      <td>2</td>\n      <td>free</td>\n      <td>little</td>\n      <td>little</td>\n      <td>4870</td>\n      <td>24</td>\n      <td>car</td>\n      <td>bad</td>\n    </tr>\n  </tbody>\n</table>\n</div>"
     },
     "metadata": {}
    }
   ]
  },
  {
   "cell_type": "markdown",
   "source": "### 3. Exploración de datos",
   "metadata": {
    "tags": [],
    "cell_id": "00005-4ebac02d-5d1d-4240-aa98-d020589507f4",
    "deepnote_app_coordinates": {
     "x": 0,
     "y": 30,
     "w": 12,
     "h": 5
    },
    "deepnote_cell_type": "markdown"
   }
  },
  {
   "cell_type": "code",
   "metadata": {
    "tags": [],
    "cell_id": "00006-101c5647-a2ed-42cc-bf3b-76a3429a095b",
    "deepnote_to_be_reexecuted": false,
    "source_hash": "b984fe68",
    "execution_start": 1640215937534,
    "execution_millis": 9,
    "deepnote_output_heights": [
     59
    ],
    "deepnote_app_coordinates": {
     "x": 0,
     "y": 36,
     "w": 12,
     "h": 5
    },
    "deepnote_cell_type": "code"
   },
   "source": "# ¿Que columnas tienen los datos?\ncredit_risk.columns",
   "execution_count": null,
   "outputs": [
    {
     "output_type": "execute_result",
     "execution_count": 4,
     "data": {
      "text/plain": "Index(['Unnamed: 0', 'Age', 'Sex', 'Job', 'Housing', 'Saving accounts',\n       'Checking account', 'Credit amount', 'Duration', 'Purpose', 'Risk'],\n      dtype='object')"
     },
     "metadata": {}
    }
   ]
  },
  {
   "cell_type": "code",
   "metadata": {
    "tags": [],
    "cell_id": "00007-f90cab44-4074-457d-9e32-efc7405b2e85",
    "deepnote_to_be_reexecuted": false,
    "source_hash": "17f163bf",
    "execution_start": 1640215937603,
    "execution_millis": 149403,
    "deepnote_output_heights": [
     21
    ],
    "deepnote_app_coordinates": {
     "x": 0,
     "y": 42,
     "w": 12,
     "h": 5
    },
    "deepnote_cell_type": "code"
   },
   "source": "# ¿Que tamaño tiene el dataset?\ncredit_risk.shape",
   "execution_count": null,
   "outputs": [
    {
     "output_type": "execute_result",
     "execution_count": 5,
     "data": {
      "text/plain": "(1000, 11)"
     },
     "metadata": {}
    }
   ]
  },
  {
   "cell_type": "code",
   "metadata": {
    "tags": [],
    "cell_id": "00008-3bede92c-f6bf-410a-892f-8bbc7e1bcc7f",
    "deepnote_to_be_reexecuted": false,
    "source_hash": "c3d2ed8",
    "execution_start": 1640215937604,
    "execution_millis": 2,
    "deepnote_app_coordinates": {
     "x": 0,
     "y": 48,
     "w": 12,
     "h": 5
    },
    "deepnote_cell_type": "code"
   },
   "source": "# ¿Hay datos nulos?\ncredit_risk.info()",
   "execution_count": null,
   "outputs": [
    {
     "name": "stdout",
     "text": "<class 'pandas.core.frame.DataFrame'>\nRangeIndex: 1000 entries, 0 to 999\nData columns (total 11 columns):\n #   Column            Non-Null Count  Dtype \n---  ------            --------------  ----- \n 0   Unnamed: 0        1000 non-null   int64 \n 1   Age               1000 non-null   int64 \n 2   Sex               1000 non-null   object\n 3   Job               1000 non-null   int64 \n 4   Housing           1000 non-null   object\n 5   Saving accounts   817 non-null    object\n 6   Checking account  606 non-null    object\n 7   Credit amount     1000 non-null   int64 \n 8   Duration          1000 non-null   int64 \n 9   Purpose           1000 non-null   object\n 10  Risk              1000 non-null   object\ndtypes: int64(5), object(6)\nmemory usage: 86.1+ KB\n",
     "output_type": "stream",
     "data": {}
    }
   ]
  },
  {
   "cell_type": "code",
   "metadata": {
    "tags": [],
    "cell_id": "00009-f20d718f-559d-44d1-86df-dc8af1e317c8",
    "deepnote_to_be_reexecuted": false,
    "source_hash": "e227fbab",
    "execution_start": 1640215937605,
    "execution_millis": 73,
    "deepnote_app_coordinates": {
     "x": 0,
     "y": 54,
     "w": 12,
     "h": 5
    },
    "deepnote_cell_type": "code"
   },
   "source": "# ¿Como se distribuyen las variables númericas?\ncredit_risk.describe()",
   "execution_count": null,
   "outputs": [
    {
     "output_type": "execute_result",
     "execution_count": 7,
     "data": {
      "application/vnd.deepnote.dataframe.v3+json": {
       "column_count": 5,
       "row_count": 8,
       "columns": [
        {
         "name": "Unnamed: 0",
         "dtype": "float64",
         "stats": {
          "unique_count": 7,
          "nan_count": 0,
          "min": "0.0",
          "max": "1000.0",
          "histogram": [
           {
            "bin_start": 0,
            "bin_end": 100,
            "count": 1
           },
           {
            "bin_start": 100,
            "bin_end": 200,
            "count": 0
           },
           {
            "bin_start": 200,
            "bin_end": 300,
            "count": 2
           },
           {
            "bin_start": 300,
            "bin_end": 400,
            "count": 0
           },
           {
            "bin_start": 400,
            "bin_end": 500,
            "count": 2
           },
           {
            "bin_start": 500,
            "bin_end": 600,
            "count": 0
           },
           {
            "bin_start": 600,
            "bin_end": 700,
            "count": 0
           },
           {
            "bin_start": 700,
            "bin_end": 800,
            "count": 1
           },
           {
            "bin_start": 800,
            "bin_end": 900,
            "count": 0
           },
           {
            "bin_start": 900,
            "bin_end": 1000,
            "count": 2
           }
          ]
         }
        },
        {
         "name": "Age",
         "dtype": "float64",
         "stats": {
          "unique_count": 8,
          "nan_count": 0,
          "min": "11.375468574317512",
          "max": "1000.0",
          "histogram": [
           {
            "bin_start": 11.375468574317512,
            "bin_end": 110.23792171688575,
            "count": 7
           },
           {
            "bin_start": 110.23792171688575,
            "bin_end": 209.100374859454,
            "count": 0
           },
           {
            "bin_start": 209.100374859454,
            "bin_end": 307.9628280020222,
            "count": 0
           },
           {
            "bin_start": 307.9628280020222,
            "bin_end": 406.82528114459046,
            "count": 0
           },
           {
            "bin_start": 406.82528114459046,
            "bin_end": 505.6877342871587,
            "count": 0
           },
           {
            "bin_start": 505.6877342871587,
            "bin_end": 604.550187429727,
            "count": 0
           },
           {
            "bin_start": 604.550187429727,
            "bin_end": 703.4126405722952,
            "count": 0
           },
           {
            "bin_start": 703.4126405722952,
            "bin_end": 802.2750937148635,
            "count": 0
           },
           {
            "bin_start": 802.2750937148635,
            "bin_end": 901.1375468574317,
            "count": 0
           },
           {
            "bin_start": 901.1375468574317,
            "bin_end": 1000,
            "count": 1
           }
          ]
         }
        },
        {
         "name": "Job",
         "dtype": "float64",
         "stats": {
          "unique_count": 6,
          "nan_count": 0,
          "min": "0.0",
          "max": "1000.0",
          "histogram": [
           {
            "bin_start": 0,
            "bin_end": 100,
            "count": 7
           },
           {
            "bin_start": 100,
            "bin_end": 200,
            "count": 0
           },
           {
            "bin_start": 200,
            "bin_end": 300,
            "count": 0
           },
           {
            "bin_start": 300,
            "bin_end": 400,
            "count": 0
           },
           {
            "bin_start": 400,
            "bin_end": 500,
            "count": 0
           },
           {
            "bin_start": 500,
            "bin_end": 600,
            "count": 0
           },
           {
            "bin_start": 600,
            "bin_end": 700,
            "count": 0
           },
           {
            "bin_start": 700,
            "bin_end": 800,
            "count": 0
           },
           {
            "bin_start": 800,
            "bin_end": 900,
            "count": 0
           },
           {
            "bin_start": 900,
            "bin_end": 1000,
            "count": 1
           }
          ]
         }
        },
        {
         "name": "Credit amount",
         "dtype": "float64",
         "stats": {
          "unique_count": 8,
          "nan_count": 0,
          "min": "250.0",
          "max": "18424.0",
          "histogram": [
           {
            "bin_start": 250,
            "bin_end": 2067.4,
            "count": 3
           },
           {
            "bin_start": 2067.4,
            "bin_end": 3884.8,
            "count": 3
           },
           {
            "bin_start": 3884.8,
            "bin_end": 5702.200000000001,
            "count": 1
           },
           {
            "bin_start": 5702.200000000001,
            "bin_end": 7519.6,
            "count": 0
           },
           {
            "bin_start": 7519.6,
            "bin_end": 9337,
            "count": 0
           },
           {
            "bin_start": 9337,
            "bin_end": 11154.400000000001,
            "count": 0
           },
           {
            "bin_start": 11154.400000000001,
            "bin_end": 12971.800000000001,
            "count": 0
           },
           {
            "bin_start": 12971.800000000001,
            "bin_end": 14789.2,
            "count": 0
           },
           {
            "bin_start": 14789.2,
            "bin_end": 16606.6,
            "count": 0
           },
           {
            "bin_start": 16606.6,
            "bin_end": 18424,
            "count": 1
           }
          ]
         }
        },
        {
         "name": "Duration",
         "dtype": "float64",
         "stats": {
          "unique_count": 8,
          "nan_count": 0,
          "min": "4.0",
          "max": "1000.0",
          "histogram": [
           {
            "bin_start": 4,
            "bin_end": 103.6,
            "count": 7
           },
           {
            "bin_start": 103.6,
            "bin_end": 203.2,
            "count": 0
           },
           {
            "bin_start": 203.2,
            "bin_end": 302.79999999999995,
            "count": 0
           },
           {
            "bin_start": 302.79999999999995,
            "bin_end": 402.4,
            "count": 0
           },
           {
            "bin_start": 402.4,
            "bin_end": 502,
            "count": 0
           },
           {
            "bin_start": 502,
            "bin_end": 601.5999999999999,
            "count": 0
           },
           {
            "bin_start": 601.5999999999999,
            "bin_end": 701.1999999999999,
            "count": 0
           },
           {
            "bin_start": 701.1999999999999,
            "bin_end": 800.8,
            "count": 0
           },
           {
            "bin_start": 800.8,
            "bin_end": 900.4,
            "count": 0
           },
           {
            "bin_start": 900.4,
            "bin_end": 1000,
            "count": 1
           }
          ]
         }
        },
        {
         "name": "_deepnote_index_column",
         "dtype": "object"
        }
       ],
       "rows": [
        {
         "Unnamed: 0": 1000,
         "Age": 1000,
         "Job": 1000,
         "Credit amount": 1000,
         "Duration": 1000,
         "_deepnote_index_column": "count"
        },
        {
         "Unnamed: 0": 499.5,
         "Age": 35.546,
         "Job": 1.904,
         "Credit amount": 3271.258,
         "Duration": 20.903,
         "_deepnote_index_column": "mean"
        },
        {
         "Unnamed: 0": 288.8194360957494,
         "Age": 11.375468574317512,
         "Job": 0.6536139619157559,
         "Credit amount": 2822.7368759604406,
         "Duration": 12.058814452756375,
         "_deepnote_index_column": "std"
        },
        {
         "Unnamed: 0": 0,
         "Age": 19,
         "Job": 0,
         "Credit amount": 250,
         "Duration": 4,
         "_deepnote_index_column": "min"
        },
        {
         "Unnamed: 0": 249.75,
         "Age": 27,
         "Job": 2,
         "Credit amount": 1365.5,
         "Duration": 12,
         "_deepnote_index_column": "25%"
        },
        {
         "Unnamed: 0": 499.5,
         "Age": 33,
         "Job": 2,
         "Credit amount": 2319.5,
         "Duration": 18,
         "_deepnote_index_column": "50%"
        },
        {
         "Unnamed: 0": 749.25,
         "Age": 42,
         "Job": 2,
         "Credit amount": 3972.25,
         "Duration": 24,
         "_deepnote_index_column": "75%"
        },
        {
         "Unnamed: 0": 999,
         "Age": 75,
         "Job": 3,
         "Credit amount": 18424,
         "Duration": 72,
         "_deepnote_index_column": "max"
        }
       ]
      },
      "text/plain": "        Unnamed: 0          Age          Job  Credit amount     Duration\ncount  1000.000000  1000.000000  1000.000000    1000.000000  1000.000000\nmean    499.500000    35.546000     1.904000    3271.258000    20.903000\nstd     288.819436    11.375469     0.653614    2822.736876    12.058814\nmin       0.000000    19.000000     0.000000     250.000000     4.000000\n25%     249.750000    27.000000     2.000000    1365.500000    12.000000\n50%     499.500000    33.000000     2.000000    2319.500000    18.000000\n75%     749.250000    42.000000     2.000000    3972.250000    24.000000\nmax     999.000000    75.000000     3.000000   18424.000000    72.000000",
      "text/html": "<div>\n<style scoped>\n    .dataframe tbody tr th:only-of-type {\n        vertical-align: middle;\n    }\n\n    .dataframe tbody tr th {\n        vertical-align: top;\n    }\n\n    .dataframe thead th {\n        text-align: right;\n    }\n</style>\n<table border=\"1\" class=\"dataframe\">\n  <thead>\n    <tr style=\"text-align: right;\">\n      <th></th>\n      <th>Unnamed: 0</th>\n      <th>Age</th>\n      <th>Job</th>\n      <th>Credit amount</th>\n      <th>Duration</th>\n    </tr>\n  </thead>\n  <tbody>\n    <tr>\n      <th>count</th>\n      <td>1000.000000</td>\n      <td>1000.000000</td>\n      <td>1000.000000</td>\n      <td>1000.000000</td>\n      <td>1000.000000</td>\n    </tr>\n    <tr>\n      <th>mean</th>\n      <td>499.500000</td>\n      <td>35.546000</td>\n      <td>1.904000</td>\n      <td>3271.258000</td>\n      <td>20.903000</td>\n    </tr>\n    <tr>\n      <th>std</th>\n      <td>288.819436</td>\n      <td>11.375469</td>\n      <td>0.653614</td>\n      <td>2822.736876</td>\n      <td>12.058814</td>\n    </tr>\n    <tr>\n      <th>min</th>\n      <td>0.000000</td>\n      <td>19.000000</td>\n      <td>0.000000</td>\n      <td>250.000000</td>\n      <td>4.000000</td>\n    </tr>\n    <tr>\n      <th>25%</th>\n      <td>249.750000</td>\n      <td>27.000000</td>\n      <td>2.000000</td>\n      <td>1365.500000</td>\n      <td>12.000000</td>\n    </tr>\n    <tr>\n      <th>50%</th>\n      <td>499.500000</td>\n      <td>33.000000</td>\n      <td>2.000000</td>\n      <td>2319.500000</td>\n      <td>18.000000</td>\n    </tr>\n    <tr>\n      <th>75%</th>\n      <td>749.250000</td>\n      <td>42.000000</td>\n      <td>2.000000</td>\n      <td>3972.250000</td>\n      <td>24.000000</td>\n    </tr>\n    <tr>\n      <th>max</th>\n      <td>999.000000</td>\n      <td>75.000000</td>\n      <td>3.000000</td>\n      <td>18424.000000</td>\n      <td>72.000000</td>\n    </tr>\n  </tbody>\n</table>\n</div>"
     },
     "metadata": {}
    }
   ]
  },
  {
   "cell_type": "code",
   "metadata": {
    "tags": [],
    "cell_id": "00010-7311197b-9e01-448d-b90a-6daeca621ea1",
    "deepnote_to_be_reexecuted": false,
    "source_hash": "32ede99a",
    "execution_start": 1640215937686,
    "execution_millis": 90,
    "deepnote_app_coordinates": {
     "x": 0,
     "y": 60,
     "w": 12,
     "h": 5
    },
    "deepnote_cell_type": "code"
   },
   "source": "# ¿Como se comportan las variables categoricas?\ncredit_risk.describe(include=\"O\")",
   "execution_count": null,
   "outputs": [
    {
     "output_type": "execute_result",
     "execution_count": 8,
     "data": {
      "application/vnd.deepnote.dataframe.v3+json": {
       "column_count": 6,
       "row_count": 4,
       "columns": [
        {
         "name": "Sex",
         "dtype": "object",
         "stats": {
          "unique_count": 4,
          "nan_count": 0,
          "categories": [
           {
            "name": "1000",
            "count": 1
           },
           {
            "name": "2",
            "count": 1
           },
           {
            "name": "2 others",
            "count": 2
           }
          ]
         }
        },
        {
         "name": "Housing",
         "dtype": "object",
         "stats": {
          "unique_count": 4,
          "nan_count": 0,
          "categories": [
           {
            "name": "1000",
            "count": 1
           },
           {
            "name": "3",
            "count": 1
           },
           {
            "name": "2 others",
            "count": 2
           }
          ]
         }
        },
        {
         "name": "Saving accounts",
         "dtype": "object",
         "stats": {
          "unique_count": 4,
          "nan_count": 0,
          "categories": [
           {
            "name": "817",
            "count": 1
           },
           {
            "name": "4",
            "count": 1
           },
           {
            "name": "2 others",
            "count": 2
           }
          ]
         }
        },
        {
         "name": "Checking account",
         "dtype": "object",
         "stats": {
          "unique_count": 4,
          "nan_count": 0,
          "categories": [
           {
            "name": "606",
            "count": 1
           },
           {
            "name": "3",
            "count": 1
           },
           {
            "name": "2 others",
            "count": 2
           }
          ]
         }
        },
        {
         "name": "Purpose",
         "dtype": "object",
         "stats": {
          "unique_count": 4,
          "nan_count": 0,
          "categories": [
           {
            "name": "1000",
            "count": 1
           },
           {
            "name": "8",
            "count": 1
           },
           {
            "name": "2 others",
            "count": 2
           }
          ]
         }
        },
        {
         "name": "Risk",
         "dtype": "object",
         "stats": {
          "unique_count": 4,
          "nan_count": 0,
          "categories": [
           {
            "name": "1000",
            "count": 1
           },
           {
            "name": "2",
            "count": 1
           },
           {
            "name": "2 others",
            "count": 2
           }
          ]
         }
        },
        {
         "name": "_deepnote_index_column",
         "dtype": "object"
        }
       ],
       "rows": [
        {
         "Sex": "1000",
         "Housing": "1000",
         "Saving accounts": "817",
         "Checking account": "606",
         "Purpose": "1000",
         "Risk": "1000",
         "_deepnote_index_column": "count"
        },
        {
         "Sex": "2",
         "Housing": "3",
         "Saving accounts": "4",
         "Checking account": "3",
         "Purpose": "8",
         "Risk": "2",
         "_deepnote_index_column": "unique"
        },
        {
         "Sex": "male",
         "Housing": "own",
         "Saving accounts": "little",
         "Checking account": "little",
         "Purpose": "car",
         "Risk": "good",
         "_deepnote_index_column": "top"
        },
        {
         "Sex": "690",
         "Housing": "713",
         "Saving accounts": "603",
         "Checking account": "274",
         "Purpose": "337",
         "Risk": "700",
         "_deepnote_index_column": "freq"
        }
       ]
      },
      "text/plain": "         Sex Housing Saving accounts Checking account Purpose  Risk\ncount   1000    1000             817              606    1000  1000\nunique     2       3               4                3       8     2\ntop     male     own          little           little     car  good\nfreq     690     713             603              274     337   700",
      "text/html": "<div>\n<style scoped>\n    .dataframe tbody tr th:only-of-type {\n        vertical-align: middle;\n    }\n\n    .dataframe tbody tr th {\n        vertical-align: top;\n    }\n\n    .dataframe thead th {\n        text-align: right;\n    }\n</style>\n<table border=\"1\" class=\"dataframe\">\n  <thead>\n    <tr style=\"text-align: right;\">\n      <th></th>\n      <th>Sex</th>\n      <th>Housing</th>\n      <th>Saving accounts</th>\n      <th>Checking account</th>\n      <th>Purpose</th>\n      <th>Risk</th>\n    </tr>\n  </thead>\n  <tbody>\n    <tr>\n      <th>count</th>\n      <td>1000</td>\n      <td>1000</td>\n      <td>817</td>\n      <td>606</td>\n      <td>1000</td>\n      <td>1000</td>\n    </tr>\n    <tr>\n      <th>unique</th>\n      <td>2</td>\n      <td>3</td>\n      <td>4</td>\n      <td>3</td>\n      <td>8</td>\n      <td>2</td>\n    </tr>\n    <tr>\n      <th>top</th>\n      <td>male</td>\n      <td>own</td>\n      <td>little</td>\n      <td>little</td>\n      <td>car</td>\n      <td>good</td>\n    </tr>\n    <tr>\n      <th>freq</th>\n      <td>690</td>\n      <td>713</td>\n      <td>603</td>\n      <td>274</td>\n      <td>337</td>\n      <td>700</td>\n    </tr>\n  </tbody>\n</table>\n</div>"
     },
     "metadata": {}
    }
   ]
  },
  {
   "cell_type": "code",
   "metadata": {
    "tags": [],
    "cell_id": "00011-34429c90-5dc0-476d-bb36-273d6d948042",
    "deepnote_to_be_reexecuted": false,
    "source_hash": "4ab4216e",
    "execution_start": 1640215937823,
    "execution_millis": 2,
    "deepnote_app_coordinates": {
     "x": 0,
     "y": 66,
     "w": 12,
     "h": 5
    },
    "deepnote_cell_type": "code"
   },
   "source": "credit_risk.info()",
   "execution_count": null,
   "outputs": [
    {
     "name": "stdout",
     "text": "<class 'pandas.core.frame.DataFrame'>\nRangeIndex: 1000 entries, 0 to 999\nData columns (total 11 columns):\n #   Column            Non-Null Count  Dtype \n---  ------            --------------  ----- \n 0   Unnamed: 0        1000 non-null   int64 \n 1   Age               1000 non-null   int64 \n 2   Sex               1000 non-null   object\n 3   Job               1000 non-null   int64 \n 4   Housing           1000 non-null   object\n 5   Saving accounts   817 non-null    object\n 6   Checking account  606 non-null    object\n 7   Credit amount     1000 non-null   int64 \n 8   Duration          1000 non-null   int64 \n 9   Purpose           1000 non-null   object\n 10  Risk              1000 non-null   object\ndtypes: int64(5), object(6)\nmemory usage: 86.1+ KB\n",
     "output_type": "stream",
     "data": {}
    }
   ]
  },
  {
   "cell_type": "markdown",
   "source": "### 3.1 Procesamiento de los datos",
   "metadata": {
    "tags": [],
    "cell_id": "00011-edc5880f-9285-4f82-9ba9-992a3741e6c3",
    "deepnote_app_coordinates": {
     "x": 0,
     "y": 72,
     "w": 12,
     "h": 5
    },
    "deepnote_cell_type": "markdown"
   }
  },
  {
   "cell_type": "code",
   "metadata": {
    "tags": [],
    "cell_id": "00012-10381e17-5c36-4070-a75a-ecb9073e1c33",
    "deepnote_to_be_reexecuted": false,
    "source_hash": "c5627b5",
    "execution_start": 1640215937867,
    "execution_millis": 0,
    "deepnote_app_coordinates": {
     "x": 0,
     "y": 78,
     "w": 12,
     "h": 5
    },
    "deepnote_cell_type": "code"
   },
   "source": "# Renombramos las columnas\ncredit_risk = credit_risk.rename(columns={\"Age\":\"Edad\",\n                                          \"Sex\":\"Género\",\n                                          \"Job\":\"Trabajo\",\n                                          \"Housing\":\"Alojamiento\",\n                                          \"Saving accounts\":\"Cuentas de ahorro\",\n                                          \"Checking account\":\"Cuenta de cheques\",\n                                          \"Credit amount\":\"Monto de crédito\",\n                                          \"Duration\":\"Duración\",\n                                          \"Purpose\":\"Propósito\",\n                                          \"Risk\":\"Riesgo\"})",
   "execution_count": null,
   "outputs": []
  },
  {
   "cell_type": "code",
   "metadata": {
    "tags": [],
    "cell_id": "00014-ae30b87a-7378-42f3-bf16-19a1f7e863d5",
    "deepnote_to_be_reexecuted": false,
    "source_hash": "2349efb9",
    "execution_start": 1640215937868,
    "execution_millis": 220,
    "deepnote_output_heights": [
     78
    ],
    "deepnote_app_coordinates": {
     "x": 0,
     "y": 84,
     "w": 12,
     "h": 5
    },
    "deepnote_cell_type": "code"
   },
   "source": "# Observamos el cambio de nombres de las columnas\ncredit_risk.columns",
   "execution_count": null,
   "outputs": [
    {
     "output_type": "execute_result",
     "execution_count": 11,
     "data": {
      "text/plain": "Index(['Unnamed: 0', 'Edad', 'Género', 'Trabajo', 'Alojamiento',\n       'Cuentas de ahorro', 'Cuenta de cheques', 'Monto de crédito',\n       'Duración', 'Propósito', 'Riesgo'],\n      dtype='object')"
     },
     "metadata": {}
    }
   ]
  },
  {
   "cell_type": "code",
   "metadata": {
    "tags": [],
    "cell_id": "00015-f917c981-9c2b-43de-ac2d-9dbcf2623e79",
    "deepnote_to_be_reexecuted": false,
    "source_hash": "f201530f",
    "execution_start": 1640215937912,
    "execution_millis": 0,
    "deepnote_app_coordinates": {
     "x": 0,
     "y": 90,
     "w": 12,
     "h": 5
    },
    "deepnote_cell_type": "code"
   },
   "source": "# Procedemos a eliminar una columna\ncredit_risk = credit_risk.drop([\"Unnamed: 0\"], axis=1)",
   "execution_count": null,
   "outputs": []
  },
  {
   "cell_type": "markdown",
   "source": "### 3.2 Histograma de variables númericas",
   "metadata": {
    "tags": [],
    "cell_id": "00016-2669c5bd-0db4-475b-bd44-983a90d8a899",
    "deepnote_app_coordinates": {
     "x": 0,
     "y": 96,
     "w": 12,
     "h": 5
    },
    "deepnote_cell_type": "markdown"
   }
  },
  {
   "cell_type": "code",
   "metadata": {
    "tags": [],
    "cell_id": "00017-df144850-bf8d-4a0d-a407-a1893a2ab29c",
    "deepnote_to_be_reexecuted": false,
    "source_hash": "e201beab",
    "execution_start": 1640215937912,
    "execution_millis": 1756,
    "deepnote_output_heights": [
     566.5625
    ],
    "deepnote_app_coordinates": {
     "x": 0,
     "y": 102,
     "w": 12,
     "h": 5
    },
    "deepnote_cell_type": "code"
   },
   "source": "credit_risk.drop(['Género', 'Alojamiento', 'Cuentas de ahorro', 'Cuenta de cheques', 'Propósito', 'Riesgo'],axis=1).hist(bins=30, figsize=(15,15))\npl.suptitle(\"Histogramas para las variables númericas\")\nplt.show()",
   "execution_count": null,
   "outputs": [
    {
     "data": {
      "text/plain": "<Figure size 1080x1080 with 4 Axes>",
      "image/png": "[encoded data removed]"
     },
     "metadata": {
      "needs_background": "light",
      "image/png": {
       "width": 877,
       "height": 954
      }
     },
     "output_type": "display_data"
    }
   ]
  },
  {
   "cell_type": "markdown",
   "source": "### 3.3 Estudio de la variable riesgo",
   "metadata": {
    "tags": [],
    "cell_id": "00018-b5c50722-fb40-4989-8f1c-390bbaec6822",
    "deepnote_app_coordinates": {
     "x": 0,
     "y": 108,
     "w": 12,
     "h": 5
    },
    "deepnote_cell_type": "markdown"
   }
  },
  {
   "cell_type": "code",
   "metadata": {
    "tags": [],
    "cell_id": "00019-a78d0a28-a905-49cf-91af-9ca6ac4ea4e1",
    "deepnote_to_be_reexecuted": false,
    "source_hash": "3f4f7307",
    "execution_start": 1640215939719,
    "execution_millis": 260,
    "deepnote_output_heights": [
     null,
     335
    ],
    "deepnote_app_coordinates": {
     "x": 0,
     "y": 114,
     "w": 12,
     "h": 5
    },
    "deepnote_cell_type": "code"
   },
   "source": "# Gráfica de riesgo crediticio\nplt.figure(figsize=(8,5))\nsns.countplot(credit_risk['Riesgo'])\nplt.title(\"Personas con o sin riesgo crediticio\")\nplt.xlabel(\"Riesgo crediticio\")\nplt.show()",
   "execution_count": null,
   "outputs": [
    {
     "name": "stderr",
     "text": "/shared-libs/python3.7/py/lib/python3.7/site-packages/seaborn/_decorators.py:43: FutureWarning: Pass the following variable as a keyword arg: x. From version 0.12, the only valid positional argument will be `data`, and passing other arguments without an explicit keyword will result in an error or misinterpretation.\n  FutureWarning\n",
     "output_type": "stream",
     "data": {}
    },
    {
     "data": {
      "text/plain": "<Figure size 576x360 with 1 Axes>",
      "image/png": "[encoded data removed]"
     },
     "metadata": {
      "needs_background": "light",
      "image/png": {
       "width": 500,
       "height": 333
      }
     },
     "output_type": "display_data"
    }
   ]
  },
  {
   "cell_type": "code",
   "metadata": {
    "tags": [],
    "cell_id": "00020-e5669a32-f080-40c7-a55e-6cd3ee68b583",
    "deepnote_to_be_reexecuted": false,
    "source_hash": "7eccc2db",
    "execution_start": 1640215940064,
    "execution_millis": 529,
    "deepnote_output_heights": [
     335
    ],
    "deepnote_app_coordinates": {
     "x": 0,
     "y": 120,
     "w": 12,
     "h": 5
    },
    "deepnote_cell_type": "code"
   },
   "source": "# Riesgo en función del género\nplt.figure(figsize=(8,5))\nsns.histplot(data = credit_risk, x = \"Riesgo\", \n             hue = \"Género\", palette = \"rocket\", multiple = \"dodge\")\nplt.title(\"Riesgo en función del género\")\nplt.xlabel(\"Riesgo crediticio\")\nplt.show()",
   "execution_count": null,
   "outputs": [
    {
     "data": {
      "text/plain": "<Figure size 576x360 with 1 Axes>",
      "image/png": "[encoded data removed]"
     },
     "metadata": {
      "needs_background": "light",
      "image/png": {
       "width": 500,
       "height": 333
      }
     },
     "output_type": "display_data"
    }
   ]
  },
  {
   "cell_type": "code",
   "metadata": {
    "tags": [],
    "cell_id": "00021-ab84f4c6-2fcc-4f20-a66d-e89ffadd1409",
    "deepnote_to_be_reexecuted": false,
    "source_hash": "1c0915c4",
    "execution_start": 1640215940467,
    "execution_millis": 292,
    "deepnote_output_heights": [
     335
    ],
    "deepnote_app_coordinates": {
     "x": 0,
     "y": 126,
     "w": 12,
     "h": 5
    },
    "deepnote_cell_type": "code"
   },
   "source": "# Riesgo en función de la cantidad de trabajos\nplt.figure(figsize=(8,5))\nsns.histplot(data = credit_risk, x = \"Riesgo\", \n             hue = \"Trabajo\", palette = \"Set2\", multiple = \"dodge\")\nplt.title(\"Riesgo en función de la cantidad de trabajos\")\nplt.xlabel(\"Riesgo crediticio\")\nplt.show()\n",
   "execution_count": null,
   "outputs": [
    {
     "data": {
      "text/plain": "<Figure size 576x360 with 1 Axes>",
      "image/png": "[encoded data removed]"
     },
     "metadata": {
      "needs_background": "light",
      "image/png": {
       "width": 500,
       "height": 333
      }
     },
     "output_type": "display_data"
    }
   ]
  },
  {
   "cell_type": "code",
   "metadata": {
    "tags": [],
    "cell_id": "00022-03e0d093-4636-4cbc-8309-364a3785f4e9",
    "deepnote_to_be_reexecuted": false,
    "source_hash": "1fecbdf3",
    "execution_start": 1640215940839,
    "execution_millis": 254,
    "deepnote_output_heights": [
     335
    ],
    "deepnote_app_coordinates": {
     "x": 0,
     "y": 132,
     "w": 12,
     "h": 5
    },
    "deepnote_cell_type": "code"
   },
   "source": "# Riesgo en función del tipo de alojamiento\nplt.figure(figsize=(8,5))\nsns.histplot(data = credit_risk, x = \"Riesgo\", \n             hue = \"Alojamiento\", palette = \"viridis\", multiple = \"dodge\")\nplt.title(\"Riesgo en función del tipo de alojamiento\")\nplt.xlabel(\"Riesgo crediticio\")\nplt.show()",
   "execution_count": null,
   "outputs": [
    {
     "data": {
      "text/plain": "<Figure size 576x360 with 1 Axes>",
      "image/png": "[encoded data removed]"
     },
     "metadata": {
      "needs_background": "light",
      "image/png": {
       "width": 500,
       "height": 333
      }
     },
     "output_type": "display_data"
    }
   ]
  },
  {
   "cell_type": "code",
   "metadata": {
    "tags": [],
    "cell_id": "00023-5cac54c4-428b-4884-8d07-c2c3055c6b13",
    "deepnote_to_be_reexecuted": false,
    "source_hash": "c2cee5f4",
    "execution_start": 1640215941183,
    "execution_millis": 461,
    "deepnote_output_heights": [
     335
    ],
    "deepnote_app_coordinates": {
     "x": 0,
     "y": 138,
     "w": 12,
     "h": 5
    },
    "deepnote_cell_type": "code"
   },
   "source": "# Riesgo en función de cuentas de ahorro\nplt.figure(figsize=(8,5))\nsns.histplot(data = credit_risk, x = \"Riesgo\", \n             hue = \"Cuentas de ahorro\", palette = \"cubehelix\", multiple = \"dodge\")\nplt.title(\"Riesgo en función de cuentas de ahorro\")\nplt.xlabel(\"Riesgo crediticio\")\nplt.show()",
   "execution_count": null,
   "outputs": [
    {
     "data": {
      "text/plain": "<Figure size 576x360 with 1 Axes>",
      "image/png": "[encoded data removed]"
     },
     "metadata": {
      "needs_background": "light",
      "image/png": {
       "width": 500,
       "height": 333
      }
     },
     "output_type": "display_data"
    }
   ]
  },
  {
   "cell_type": "code",
   "metadata": {
    "tags": [],
    "cell_id": "00024-4768dcf6-3b55-4736-9a7c-8cfadbf33ce4",
    "deepnote_to_be_reexecuted": false,
    "source_hash": "bfa3151e",
    "execution_start": 1640215941652,
    "execution_millis": 633,
    "deepnote_output_heights": [
     335
    ],
    "deepnote_app_coordinates": {
     "x": 0,
     "y": 144,
     "w": 12,
     "h": 5
    },
    "deepnote_cell_type": "code"
   },
   "source": "# Riesgo en función de cuenta de cheques\nplt.figure(figsize=(8,5))\nsns.histplot(data = credit_risk, x = \"Riesgo\", \n             hue = \"Cuenta de cheques\", palette = \"dark:salmon_r\", multiple = \"dodge\")\nplt.title(\"Riesgo en función de cuenta de cheques\")\nplt.xlabel(\"Riesgo crediticio\")\nplt.show()",
   "execution_count": null,
   "outputs": [
    {
     "data": {
      "text/plain": "<Figure size 576x360 with 1 Axes>",
      "image/png": "[encoded data removed]"
     },
     "metadata": {
      "needs_background": "light",
      "image/png": {
       "width": 500,
       "height": 333
      }
     },
     "output_type": "display_data"
    }
   ]
  },
  {
   "cell_type": "code",
   "metadata": {
    "tags": [],
    "cell_id": "00025-dceca43c-ab85-4637-8641-412bad2fd699",
    "deepnote_to_be_reexecuted": false,
    "source_hash": "28cad1b",
    "execution_start": 1640215942339,
    "deepnote_output_heights": [
     335
    ],
    "execution_millis": 601,
    "deepnote_app_coordinates": {
     "x": 0,
     "y": 150,
     "w": 12,
     "h": 5
    },
    "deepnote_cell_type": "code"
   },
   "source": "# Riesgo en función del proposito del credito\nplt.figure(figsize=(8,5))\nsns.histplot(data = credit_risk, x = \"Riesgo\", \n             hue = \"Propósito\", palette = \"icefire\", multiple = \"dodge\")\nplt.title(\"Riesgo en función del proposito del credito\")\nplt.xlabel(\"Riesgo crediticio\")\nplt.show()",
   "execution_count": null,
   "outputs": [
    {
     "data": {
      "text/plain": "<Figure size 576x360 with 1 Axes>",
      "image/png": "[encoded data removed]"
     },
     "metadata": {
      "needs_background": "light",
      "image/png": {
       "width": 500,
       "height": 333
      }
     },
     "output_type": "display_data"
    }
   ]
  },
  {
   "cell_type": "code",
   "metadata": {
    "tags": [],
    "cell_id": "00026-b1674099-86f4-46a6-a33b-f6632378dc5e",
    "deepnote_to_be_reexecuted": false,
    "source_hash": "4ab4216e",
    "execution_start": 1640215942795,
    "execution_millis": 147,
    "deepnote_app_coordinates": {
     "x": 0,
     "y": 156,
     "w": 12,
     "h": 5
    },
    "deepnote_cell_type": "code"
   },
   "source": "credit_risk.info()",
   "execution_count": null,
   "outputs": [
    {
     "name": "stdout",
     "text": "<class 'pandas.core.frame.DataFrame'>\nRangeIndex: 1000 entries, 0 to 999\nData columns (total 10 columns):\n #   Column             Non-Null Count  Dtype \n---  ------             --------------  ----- \n 0   Edad               1000 non-null   int64 \n 1   Género             1000 non-null   object\n 2   Trabajo            1000 non-null   int64 \n 3   Alojamiento        1000 non-null   object\n 4   Cuentas de ahorro  817 non-null    object\n 5   Cuenta de cheques  606 non-null    object\n 6   Monto de crédito   1000 non-null   int64 \n 7   Duración           1000 non-null   int64 \n 8   Propósito          1000 non-null   object\n 9   Riesgo             1000 non-null   object\ndtypes: int64(4), object(6)\nmemory usage: 78.2+ KB\n",
     "output_type": "stream",
     "data": {}
    }
   ]
  },
  {
   "cell_type": "markdown",
   "source": "### 4. Tratamiento de los datos para modelación",
   "metadata": {
    "tags": [],
    "cell_id": "00026-b6428308-fbf3-4cc4-924b-9deb638b0186",
    "deepnote_app_coordinates": {
     "x": 0,
     "y": 162,
     "w": 12,
     "h": 5
    },
    "deepnote_cell_type": "markdown"
   }
  },
  {
   "cell_type": "code",
   "metadata": {
    "tags": [],
    "cell_id": "00027-522d03df-628f-4642-a05b-9fa425b2ea6a",
    "deepnote_to_be_reexecuted": false,
    "source_hash": "a639542f",
    "execution_start": 1640215942796,
    "execution_millis": 147,
    "deepnote_app_coordinates": {
     "x": 0,
     "y": 168,
     "w": 12,
     "h": 5
    },
    "deepnote_cell_type": "code"
   },
   "source": "# Observamos los valores unicos de las variables\nprint(\"Edad: \", credit_risk['Edad'].unique())\nprint(\"Género: \", credit_risk[\"Género\"].unique())\nprint(\"Trabajo: \",credit_risk[\"Trabajo\"].unique())\nprint(\"Alojamiento: \",credit_risk[\"Alojamiento\"].unique())\nprint(\"Cuentas de ahorro: \",credit_risk[\"Cuentas de ahorro\"].unique())\nprint(\"Cuenta de cheques: \",credit_risk[\"Cuenta de cheques\"].unique())\nprint(\"Duración: \",credit_risk[\"Duración\"].unique())\nprint(\"Propósito: \",credit_risk[\"Propósito\"].unique())\nprint(\"Riesgo: \",credit_risk[\"Riesgo\"].unique())",
   "execution_count": null,
   "outputs": [
    {
     "name": "stdout",
     "text": "Edad:  [67 22 49 45 53 35 61 28 25 24 60 32 44 31 48 26 36 39 42 34 63 27 30 57\n 33 37 58 23 29 52 50 46 51 41 40 66 47 56 54 20 21 38 70 65 74 68 43 55\n 64 75 19 62 59]\nGénero:  ['male' 'female']\nTrabajo:  [2 1 3 0]\nAlojamiento:  ['own' 'free' 'rent']\nCuentas de ahorro:  [nan 'little' 'quite rich' 'rich' 'moderate']\nCuenta de cheques:  ['little' 'moderate' nan 'rich']\nDuración:  [ 6 48 12 42 24 36 30 15  9 10  7 60 18 45 11 27  8 54 20 14 33 21 16  4\n 47 13 22 39 28  5 26 72 40]\nPropósito:  ['radio/TV' 'education' 'furniture/equipment' 'car' 'business'\n 'domestic appliances' 'repairs' 'vacation/others']\nRiesgo:  ['good' 'bad']\n",
     "output_type": "stream",
     "data": {}
    }
   ]
  },
  {
   "cell_type": "code",
   "metadata": {
    "tags": [],
    "cell_id": "00029-f2f31e87-43d4-4829-8e60-f374c8688d6e",
    "deepnote_to_be_reexecuted": false,
    "source_hash": "63244263",
    "execution_start": 1640215942839,
    "execution_millis": 0,
    "deepnote_app_coordinates": {
     "x": 0,
     "y": 174,
     "w": 12,
     "h": 5
    },
    "deepnote_cell_type": "code"
   },
   "source": "# Convertimos riesgo a dummy\ncredit_risk[\"Riesgo\"] = credit_risk.Riesgo.map({\"bad\":0,\n                                                \"good\":1})\n",
   "execution_count": null,
   "outputs": []
  },
  {
   "cell_type": "code",
   "metadata": {
    "tags": [],
    "cell_id": "00031-3303a66d-eb56-4245-a60a-1c693ef680ce",
    "deepnote_to_be_reexecuted": false,
    "source_hash": "4b566fa1",
    "execution_start": 1640215942840,
    "execution_millis": 0,
    "deepnote_app_coordinates": {
     "x": 0,
     "y": 180,
     "w": 12,
     "h": 5
    },
    "deepnote_cell_type": "code"
   },
   "source": "# Terminamos de convertir el resto de variables categoricas a dummy \ncredit_risk = credit_risk.merge(pd.get_dummies(credit_risk[\"Género\"], drop_first=True, prefix=\"Género\"), left_index=True, right_index=True)\ncredit_risk = credit_risk.merge(pd.get_dummies(credit_risk[\"Alojamiento\"], drop_first=True, prefix=\"Alojamiento\"), left_index=True, right_index=True)\ncredit_risk = credit_risk.merge(pd.get_dummies(credit_risk[\"Cuentas de ahorro\"], drop_first=True, prefix=\"Cuentas de ahorro\"), left_index=True, right_index=True)\ncredit_risk = credit_risk.merge(pd.get_dummies(credit_risk[\"Cuenta de cheques\"], drop_first=True, prefix=\"Cuenta de cheques\"), left_index=True, right_index=True)\ncredit_risk = credit_risk.merge(pd.get_dummies(credit_risk[\"Propósito\"], drop_first=True, prefix = \"Propósito\"),left_index=True, right_index=True)\n",
   "execution_count": null,
   "outputs": []
  },
  {
   "cell_type": "code",
   "metadata": {
    "tags": [],
    "cell_id": "00031-0cd0fc67-33bf-46ce-b9e5-de31380dc72a",
    "deepnote_to_be_reexecuted": false,
    "source_hash": "bad09e80",
    "execution_start": 1640215942888,
    "execution_millis": 110,
    "deepnote_app_coordinates": {
     "x": 0,
     "y": 186,
     "w": 12,
     "h": 5
    },
    "deepnote_cell_type": "code"
   },
   "source": "# Observamos las variables\ncredit_risk.head()",
   "execution_count": null,
   "outputs": [
    {
     "output_type": "execute_result",
     "execution_count": 25,
     "data": {
      "application/vnd.deepnote.dataframe.v3+json": {
       "column_count": 25,
       "row_count": 5,
       "columns": [
        {
         "name": "Edad",
         "dtype": "int64",
         "stats": {
          "unique_count": 5,
          "nan_count": 0,
          "min": "22",
          "max": "67",
          "histogram": [
           {
            "bin_start": 22,
            "bin_end": 26.5,
            "count": 1
           },
           {
            "bin_start": 26.5,
            "bin_end": 31,
            "count": 0
           },
           {
            "bin_start": 31,
            "bin_end": 35.5,
            "count": 0
           },
           {
            "bin_start": 35.5,
            "bin_end": 40,
            "count": 0
           },
           {
            "bin_start": 40,
            "bin_end": 44.5,
            "count": 0
           },
           {
            "bin_start": 44.5,
            "bin_end": 49,
            "count": 1
           },
           {
            "bin_start": 49,
            "bin_end": 53.5,
            "count": 2
           },
           {
            "bin_start": 53.5,
            "bin_end": 58,
            "count": 0
           },
           {
            "bin_start": 58,
            "bin_end": 62.5,
            "count": 0
           },
           {
            "bin_start": 62.5,
            "bin_end": 67,
            "count": 1
           }
          ]
         }
        },
        {
         "name": "Género",
         "dtype": "object",
         "stats": {
          "unique_count": 2,
          "nan_count": 0,
          "categories": [
           {
            "name": "male",
            "count": 4
           },
           {
            "name": "female",
            "count": 1
           }
          ]
         }
        },
        {
         "name": "Trabajo",
         "dtype": "int64",
         "stats": {
          "unique_count": 2,
          "nan_count": 0,
          "min": "1",
          "max": "2",
          "histogram": [
           {
            "bin_start": 1,
            "bin_end": 1.1,
            "count": 1
           },
           {
            "bin_start": 1.1,
            "bin_end": 1.2,
            "count": 0
           },
           {
            "bin_start": 1.2,
            "bin_end": 1.3,
            "count": 0
           },
           {
            "bin_start": 1.3,
            "bin_end": 1.4,
            "count": 0
           },
           {
            "bin_start": 1.4,
            "bin_end": 1.5,
            "count": 0
           },
           {
            "bin_start": 1.5,
            "bin_end": 1.6,
            "count": 0
           },
           {
            "bin_start": 1.6,
            "bin_end": 1.7000000000000002,
            "count": 0
           },
           {
            "bin_start": 1.7000000000000002,
            "bin_end": 1.8,
            "count": 0
           },
           {
            "bin_start": 1.8,
            "bin_end": 1.9,
            "count": 0
           },
           {
            "bin_start": 1.9,
            "bin_end": 2,
            "count": 4
           }
          ]
         }
        },
        {
         "name": "Alojamiento",
         "dtype": "object",
         "stats": {
          "unique_count": 2,
          "nan_count": 0,
          "categories": [
           {
            "name": "own",
            "count": 3
           },
           {
            "name": "free",
            "count": 2
           }
          ]
         }
        },
        {
         "name": "Cuentas de ahorro",
         "dtype": "object",
         "stats": {
          "unique_count": 1,
          "nan_count": 1,
          "categories": [
           {
            "name": "little",
            "count": 4
           },
           {
            "name": "Missing",
            "count": 1
           }
          ]
         }
        },
        {
         "name": "Cuenta de cheques",
         "dtype": "object",
         "stats": {
          "unique_count": 2,
          "nan_count": 1,
          "categories": [
           {
            "name": "little",
            "count": 3
           },
           {
            "name": "moderate",
            "count": 1
           },
           {
            "name": "Missing",
            "count": 1
           }
          ]
         }
        },
        {
         "name": "Monto de crédito",
         "dtype": "int64",
         "stats": {
          "unique_count": 5,
          "nan_count": 0,
          "min": "1169",
          "max": "7882",
          "histogram": [
           {
            "bin_start": 1169,
            "bin_end": 1840.3,
            "count": 1
           },
           {
            "bin_start": 1840.3,
            "bin_end": 2511.6,
            "count": 1
           },
           {
            "bin_start": 2511.6,
            "bin_end": 3182.8999999999996,
            "count": 0
           },
           {
            "bin_start": 3182.8999999999996,
            "bin_end": 3854.2,
            "count": 0
           },
           {
            "bin_start": 3854.2,
            "bin_end": 4525.5,
            "count": 0
           },
           {
            "bin_start": 4525.5,
            "bin_end": 5196.799999999999,
            "count": 1
           },
           {
            "bin_start": 5196.799999999999,
            "bin_end": 5868.099999999999,
            "count": 0
           },
           {
            "bin_start": 5868.099999999999,
            "bin_end": 6539.4,
            "count": 1
           },
           {
            "bin_start": 6539.4,
            "bin_end": 7210.7,
            "count": 0
           },
           {
            "bin_start": 7210.7,
            "bin_end": 7882,
            "count": 1
           }
          ]
         }
        },
        {
         "name": "Duración",
         "dtype": "int64",
         "stats": {
          "unique_count": 5,
          "nan_count": 0,
          "min": "6",
          "max": "48",
          "histogram": [
           {
            "bin_start": 6,
            "bin_end": 10.2,
            "count": 1
           },
           {
            "bin_start": 10.2,
            "bin_end": 14.4,
            "count": 1
           },
           {
            "bin_start": 14.4,
            "bin_end": 18.6,
            "count": 0
           },
           {
            "bin_start": 18.6,
            "bin_end": 22.8,
            "count": 0
           },
           {
            "bin_start": 22.8,
            "bin_end": 27,
            "count": 1
           },
           {
            "bin_start": 27,
            "bin_end": 31.200000000000003,
            "count": 0
           },
           {
            "bin_start": 31.200000000000003,
            "bin_end": 35.400000000000006,
            "count": 0
           },
           {
            "bin_start": 35.400000000000006,
            "bin_end": 39.6,
            "count": 0
           },
           {
            "bin_start": 39.6,
            "bin_end": 43.800000000000004,
            "count": 1
           },
           {
            "bin_start": 43.800000000000004,
            "bin_end": 48,
            "count": 1
           }
          ]
         }
        },
        {
         "name": "Propósito",
         "dtype": "object",
         "stats": {
          "unique_count": 4,
          "nan_count": 0,
          "categories": [
           {
            "name": "radio/TV",
            "count": 2
           },
           {
            "name": "education",
            "count": 1
           },
           {
            "name": "2 others",
            "count": 2
           }
          ]
         }
        },
        {
         "name": "Riesgo",
         "dtype": "int64",
         "stats": {
          "unique_count": 2,
          "nan_count": 0,
          "min": "0",
          "max": "1",
          "histogram": [
           {
            "bin_start": 0,
            "bin_end": 0.1,
            "count": 2
           },
           {
            "bin_start": 0.1,
            "bin_end": 0.2,
            "count": 0
           },
           {
            "bin_start": 0.2,
            "bin_end": 0.30000000000000004,
            "count": 0
           },
           {
            "bin_start": 0.30000000000000004,
            "bin_end": 0.4,
            "count": 0
           },
           {
            "bin_start": 0.4,
            "bin_end": 0.5,
            "count": 0
           },
           {
            "bin_start": 0.5,
            "bin_end": 0.6000000000000001,
            "count": 0
           },
           {
            "bin_start": 0.6000000000000001,
            "bin_end": 0.7000000000000001,
            "count": 0
           },
           {
            "bin_start": 0.7000000000000001,
            "bin_end": 0.8,
            "count": 0
           },
           {
            "bin_start": 0.8,
            "bin_end": 0.9,
            "count": 0
           },
           {
            "bin_start": 0.9,
            "bin_end": 1,
            "count": 3
           }
          ]
         }
        },
        {
         "name": "Género_male",
         "dtype": "uint8",
         "stats": {
          "unique_count": 2,
          "nan_count": 0,
          "min": "0",
          "max": "1",
          "histogram": [
           {
            "bin_start": 0,
            "bin_end": 0.1,
            "count": 1
           },
           {
            "bin_start": 0.1,
            "bin_end": 0.2,
            "count": 0
           },
           {
            "bin_start": 0.2,
            "bin_end": 0.30000000000000004,
            "count": 0
           },
           {
            "bin_start": 0.30000000000000004,
            "bin_end": 0.4,
            "count": 0
           },
           {
            "bin_start": 0.4,
            "bin_end": 0.5,
            "count": 0
           },
           {
            "bin_start": 0.5,
            "bin_end": 0.6000000000000001,
            "count": 0
           },
           {
            "bin_start": 0.6000000000000001,
            "bin_end": 0.7000000000000001,
            "count": 0
           },
           {
            "bin_start": 0.7000000000000001,
            "bin_end": 0.8,
            "count": 0
           },
           {
            "bin_start": 0.8,
            "bin_end": 0.9,
            "count": 0
           },
           {
            "bin_start": 0.9,
            "bin_end": 1,
            "count": 4
           }
          ]
         }
        },
        {
         "name": "Alojamiento_own",
         "dtype": "uint8",
         "stats": {
          "unique_count": 2,
          "nan_count": 0,
          "min": "0",
          "max": "1",
          "histogram": [
           {
            "bin_start": 0,
            "bin_end": 0.1,
            "count": 2
           },
           {
            "bin_start": 0.1,
            "bin_end": 0.2,
            "count": 0
           },
           {
            "bin_start": 0.2,
            "bin_end": 0.30000000000000004,
            "count": 0
           },
           {
            "bin_start": 0.30000000000000004,
            "bin_end": 0.4,
            "count": 0
           },
           {
            "bin_start": 0.4,
            "bin_end": 0.5,
            "count": 0
           },
           {
            "bin_start": 0.5,
            "bin_end": 0.6000000000000001,
            "count": 0
           },
           {
            "bin_start": 0.6000000000000001,
            "bin_end": 0.7000000000000001,
            "count": 0
           },
           {
            "bin_start": 0.7000000000000001,
            "bin_end": 0.8,
            "count": 0
           },
           {
            "bin_start": 0.8,
            "bin_end": 0.9,
            "count": 0
           },
           {
            "bin_start": 0.9,
            "bin_end": 1,
            "count": 3
           }
          ]
         }
        },
        {
         "name": "Alojamiento_rent",
         "dtype": "uint8",
         "stats": {
          "unique_count": 1,
          "nan_count": 0,
          "min": "0",
          "max": "0",
          "histogram": [
           {
            "bin_start": -0.5,
            "bin_end": -0.4,
            "count": 0
           },
           {
            "bin_start": -0.4,
            "bin_end": -0.3,
            "count": 0
           },
           {
            "bin_start": -0.3,
            "bin_end": -0.19999999999999996,
            "count": 0
           },
           {
            "bin_start": -0.19999999999999996,
            "bin_end": -0.09999999999999998,
            "count": 0
           },
           {
            "bin_start": -0.09999999999999998,
            "bin_end": 0,
            "count": 0
           },
           {
            "bin_start": 0,
            "bin_end": 0.10000000000000009,
            "count": 5
           },
           {
            "bin_start": 0.10000000000000009,
            "bin_end": 0.20000000000000007,
            "count": 0
           },
           {
            "bin_start": 0.20000000000000007,
            "bin_end": 0.30000000000000004,
            "count": 0
           },
           {
            "bin_start": 0.30000000000000004,
            "bin_end": 0.4,
            "count": 0
           },
           {
            "bin_start": 0.4,
            "bin_end": 0.5,
            "count": 0
           }
          ]
         }
        },
        {
         "name": "Cuentas de ahorro_moderate",
         "dtype": "uint8",
         "stats": {
          "unique_count": 1,
          "nan_count": 0,
          "min": "0",
          "max": "0",
          "histogram": [
           {
            "bin_start": -0.5,
            "bin_end": -0.4,
            "count": 0
           },
           {
            "bin_start": -0.4,
            "bin_end": -0.3,
            "count": 0
           },
           {
            "bin_start": -0.3,
            "bin_end": -0.19999999999999996,
            "count": 0
           },
           {
            "bin_start": -0.19999999999999996,
            "bin_end": -0.09999999999999998,
            "count": 0
           },
           {
            "bin_start": -0.09999999999999998,
            "bin_end": 0,
            "count": 0
           },
           {
            "bin_start": 0,
            "bin_end": 0.10000000000000009,
            "count": 5
           },
           {
            "bin_start": 0.10000000000000009,
            "bin_end": 0.20000000000000007,
            "count": 0
           },
           {
            "bin_start": 0.20000000000000007,
            "bin_end": 0.30000000000000004,
            "count": 0
           },
           {
            "bin_start": 0.30000000000000004,
            "bin_end": 0.4,
            "count": 0
           },
           {
            "bin_start": 0.4,
            "bin_end": 0.5,
            "count": 0
           }
          ]
         }
        },
        {
         "name": "Cuentas de ahorro_quite rich",
         "dtype": "uint8",
         "stats": {
          "unique_count": 1,
          "nan_count": 0,
          "min": "0",
          "max": "0",
          "histogram": [
           {
            "bin_start": -0.5,
            "bin_end": -0.4,
            "count": 0
           },
           {
            "bin_start": -0.4,
            "bin_end": -0.3,
            "count": 0
           },
           {
            "bin_start": -0.3,
            "bin_end": -0.19999999999999996,
            "count": 0
           },
           {
            "bin_start": -0.19999999999999996,
            "bin_end": -0.09999999999999998,
            "count": 0
           },
           {
            "bin_start": -0.09999999999999998,
            "bin_end": 0,
            "count": 0
           },
           {
            "bin_start": 0,
            "bin_end": 0.10000000000000009,
            "count": 5
           },
           {
            "bin_start": 0.10000000000000009,
            "bin_end": 0.20000000000000007,
            "count": 0
           },
           {
            "bin_start": 0.20000000000000007,
            "bin_end": 0.30000000000000004,
            "count": 0
           },
           {
            "bin_start": 0.30000000000000004,
            "bin_end": 0.4,
            "count": 0
           },
           {
            "bin_start": 0.4,
            "bin_end": 0.5,
            "count": 0
           }
          ]
         }
        },
        {
         "name": "Cuentas de ahorro_rich",
         "dtype": "uint8",
         "stats": {
          "unique_count": 1,
          "nan_count": 0,
          "min": "0",
          "max": "0",
          "histogram": [
           {
            "bin_start": -0.5,
            "bin_end": -0.4,
            "count": 0
           },
           {
            "bin_start": -0.4,
            "bin_end": -0.3,
            "count": 0
           },
           {
            "bin_start": -0.3,
            "bin_end": -0.19999999999999996,
            "count": 0
           },
           {
            "bin_start": -0.19999999999999996,
            "bin_end": -0.09999999999999998,
            "count": 0
           },
           {
            "bin_start": -0.09999999999999998,
            "bin_end": 0,
            "count": 0
           },
           {
            "bin_start": 0,
            "bin_end": 0.10000000000000009,
            "count": 5
           },
           {
            "bin_start": 0.10000000000000009,
            "bin_end": 0.20000000000000007,
            "count": 0
           },
           {
            "bin_start": 0.20000000000000007,
            "bin_end": 0.30000000000000004,
            "count": 0
           },
           {
            "bin_start": 0.30000000000000004,
            "bin_end": 0.4,
            "count": 0
           },
           {
            "bin_start": 0.4,
            "bin_end": 0.5,
            "count": 0
           }
          ]
         }
        },
        {
         "name": "Cuenta de cheques_moderate",
         "dtype": "uint8",
         "stats": {
          "unique_count": 2,
          "nan_count": 0,
          "min": "0",
          "max": "1",
          "histogram": [
           {
            "bin_start": 0,
            "bin_end": 0.1,
            "count": 4
           },
           {
            "bin_start": 0.1,
            "bin_end": 0.2,
            "count": 0
           },
           {
            "bin_start": 0.2,
            "bin_end": 0.30000000000000004,
            "count": 0
           },
           {
            "bin_start": 0.30000000000000004,
            "bin_end": 0.4,
            "count": 0
           },
           {
            "bin_start": 0.4,
            "bin_end": 0.5,
            "count": 0
           },
           {
            "bin_start": 0.5,
            "bin_end": 0.6000000000000001,
            "count": 0
           },
           {
            "bin_start": 0.6000000000000001,
            "bin_end": 0.7000000000000001,
            "count": 0
           },
           {
            "bin_start": 0.7000000000000001,
            "bin_end": 0.8,
            "count": 0
           },
           {
            "bin_start": 0.8,
            "bin_end": 0.9,
            "count": 0
           },
           {
            "bin_start": 0.9,
            "bin_end": 1,
            "count": 1
           }
          ]
         }
        },
        {
         "name": "Cuenta de cheques_rich",
         "dtype": "uint8",
         "stats": {
          "unique_count": 1,
          "nan_count": 0,
          "min": "0",
          "max": "0",
          "histogram": [
           {
            "bin_start": -0.5,
            "bin_end": -0.4,
            "count": 0
           },
           {
            "bin_start": -0.4,
            "bin_end": -0.3,
            "count": 0
           },
           {
            "bin_start": -0.3,
            "bin_end": -0.19999999999999996,
            "count": 0
           },
           {
            "bin_start": -0.19999999999999996,
            "bin_end": -0.09999999999999998,
            "count": 0
           },
           {
            "bin_start": -0.09999999999999998,
            "bin_end": 0,
            "count": 0
           },
           {
            "bin_start": 0,
            "bin_end": 0.10000000000000009,
            "count": 5
           },
           {
            "bin_start": 0.10000000000000009,
            "bin_end": 0.20000000000000007,
            "count": 0
           },
           {
            "bin_start": 0.20000000000000007,
            "bin_end": 0.30000000000000004,
            "count": 0
           },
           {
            "bin_start": 0.30000000000000004,
            "bin_end": 0.4,
            "count": 0
           },
           {
            "bin_start": 0.4,
            "bin_end": 0.5,
            "count": 0
           }
          ]
         }
        },
        {
         "name": "Propósito_car",
         "dtype": "uint8",
         "stats": {
          "unique_count": 2,
          "nan_count": 0,
          "min": "0",
          "max": "1",
          "histogram": [
           {
            "bin_start": 0,
            "bin_end": 0.1,
            "count": 4
           },
           {
            "bin_start": 0.1,
            "bin_end": 0.2,
            "count": 0
           },
           {
            "bin_start": 0.2,
            "bin_end": 0.30000000000000004,
            "count": 0
           },
           {
            "bin_start": 0.30000000000000004,
            "bin_end": 0.4,
            "count": 0
           },
           {
            "bin_start": 0.4,
            "bin_end": 0.5,
            "count": 0
           },
           {
            "bin_start": 0.5,
            "bin_end": 0.6000000000000001,
            "count": 0
           },
           {
            "bin_start": 0.6000000000000001,
            "bin_end": 0.7000000000000001,
            "count": 0
           },
           {
            "bin_start": 0.7000000000000001,
            "bin_end": 0.8,
            "count": 0
           },
           {
            "bin_start": 0.8,
            "bin_end": 0.9,
            "count": 0
           },
           {
            "bin_start": 0.9,
            "bin_end": 1,
            "count": 1
           }
          ]
         }
        },
        {
         "name": "Propósito_domestic appliances",
         "dtype": "uint8",
         "stats": {
          "unique_count": 1,
          "nan_count": 0,
          "min": "0",
          "max": "0",
          "histogram": [
           {
            "bin_start": -0.5,
            "bin_end": -0.4,
            "count": 0
           },
           {
            "bin_start": -0.4,
            "bin_end": -0.3,
            "count": 0
           },
           {
            "bin_start": -0.3,
            "bin_end": -0.19999999999999996,
            "count": 0
           },
           {
            "bin_start": -0.19999999999999996,
            "bin_end": -0.09999999999999998,
            "count": 0
           },
           {
            "bin_start": -0.09999999999999998,
            "bin_end": 0,
            "count": 0
           },
           {
            "bin_start": 0,
            "bin_end": 0.10000000000000009,
            "count": 5
           },
           {
            "bin_start": 0.10000000000000009,
            "bin_end": 0.20000000000000007,
            "count": 0
           },
           {
            "bin_start": 0.20000000000000007,
            "bin_end": 0.30000000000000004,
            "count": 0
           },
           {
            "bin_start": 0.30000000000000004,
            "bin_end": 0.4,
            "count": 0
           },
           {
            "bin_start": 0.4,
            "bin_end": 0.5,
            "count": 0
           }
          ]
         }
        },
        {
         "name": "Propósito_education",
         "dtype": "uint8",
         "stats": {
          "unique_count": 2,
          "nan_count": 0,
          "min": "0",
          "max": "1",
          "histogram": [
           {
            "bin_start": 0,
            "bin_end": 0.1,
            "count": 4
           },
           {
            "bin_start": 0.1,
            "bin_end": 0.2,
            "count": 0
           },
           {
            "bin_start": 0.2,
            "bin_end": 0.30000000000000004,
            "count": 0
           },
           {
            "bin_start": 0.30000000000000004,
            "bin_end": 0.4,
            "count": 0
           },
           {
            "bin_start": 0.4,
            "bin_end": 0.5,
            "count": 0
           },
           {
            "bin_start": 0.5,
            "bin_end": 0.6000000000000001,
            "count": 0
           },
           {
            "bin_start": 0.6000000000000001,
            "bin_end": 0.7000000000000001,
            "count": 0
           },
           {
            "bin_start": 0.7000000000000001,
            "bin_end": 0.8,
            "count": 0
           },
           {
            "bin_start": 0.8,
            "bin_end": 0.9,
            "count": 0
           },
           {
            "bin_start": 0.9,
            "bin_end": 1,
            "count": 1
           }
          ]
         }
        },
        {
         "name": "Propósito_furniture/equipment",
         "dtype": "uint8",
         "stats": {
          "unique_count": 2,
          "nan_count": 0,
          "min": "0",
          "max": "1",
          "histogram": [
           {
            "bin_start": 0,
            "bin_end": 0.1,
            "count": 4
           },
           {
            "bin_start": 0.1,
            "bin_end": 0.2,
            "count": 0
           },
           {
            "bin_start": 0.2,
            "bin_end": 0.30000000000000004,
            "count": 0
           },
           {
            "bin_start": 0.30000000000000004,
            "bin_end": 0.4,
            "count": 0
           },
           {
            "bin_start": 0.4,
            "bin_end": 0.5,
            "count": 0
           },
           {
            "bin_start": 0.5,
            "bin_end": 0.6000000000000001,
            "count": 0
           },
           {
            "bin_start": 0.6000000000000001,
            "bin_end": 0.7000000000000001,
            "count": 0
           },
           {
            "bin_start": 0.7000000000000001,
            "bin_end": 0.8,
            "count": 0
           },
           {
            "bin_start": 0.8,
            "bin_end": 0.9,
            "count": 0
           },
           {
            "bin_start": 0.9,
            "bin_end": 1,
            "count": 1
           }
          ]
         }
        },
        {
         "name": "Propósito_radio/TV",
         "dtype": "uint8",
         "stats": {
          "unique_count": 2,
          "nan_count": 0,
          "min": "0",
          "max": "1",
          "histogram": [
           {
            "bin_start": 0,
            "bin_end": 0.1,
            "count": 3
           },
           {
            "bin_start": 0.1,
            "bin_end": 0.2,
            "count": 0
           },
           {
            "bin_start": 0.2,
            "bin_end": 0.30000000000000004,
            "count": 0
           },
           {
            "bin_start": 0.30000000000000004,
            "bin_end": 0.4,
            "count": 0
           },
           {
            "bin_start": 0.4,
            "bin_end": 0.5,
            "count": 0
           },
           {
            "bin_start": 0.5,
            "bin_end": 0.6000000000000001,
            "count": 0
           },
           {
            "bin_start": 0.6000000000000001,
            "bin_end": 0.7000000000000001,
            "count": 0
           },
           {
            "bin_start": 0.7000000000000001,
            "bin_end": 0.8,
            "count": 0
           },
           {
            "bin_start": 0.8,
            "bin_end": 0.9,
            "count": 0
           },
           {
            "bin_start": 0.9,
            "bin_end": 1,
            "count": 2
           }
          ]
         }
        },
        {
         "name": "Propósito_repairs",
         "dtype": "uint8",
         "stats": {
          "unique_count": 1,
          "nan_count": 0,
          "min": "0",
          "max": "0",
          "histogram": [
           {
            "bin_start": -0.5,
            "bin_end": -0.4,
            "count": 0
           },
           {
            "bin_start": -0.4,
            "bin_end": -0.3,
            "count": 0
           },
           {
            "bin_start": -0.3,
            "bin_end": -0.19999999999999996,
            "count": 0
           },
           {
            "bin_start": -0.19999999999999996,
            "bin_end": -0.09999999999999998,
            "count": 0
           },
           {
            "bin_start": -0.09999999999999998,
            "bin_end": 0,
            "count": 0
           },
           {
            "bin_start": 0,
            "bin_end": 0.10000000000000009,
            "count": 5
           },
           {
            "bin_start": 0.10000000000000009,
            "bin_end": 0.20000000000000007,
            "count": 0
           },
           {
            "bin_start": 0.20000000000000007,
            "bin_end": 0.30000000000000004,
            "count": 0
           },
           {
            "bin_start": 0.30000000000000004,
            "bin_end": 0.4,
            "count": 0
           },
           {
            "bin_start": 0.4,
            "bin_end": 0.5,
            "count": 0
           }
          ]
         }
        },
        {
         "name": "Propósito_vacation/others",
         "dtype": "uint8",
         "stats": {
          "unique_count": 1,
          "nan_count": 0,
          "min": "0",
          "max": "0",
          "histogram": [
           {
            "bin_start": -0.5,
            "bin_end": -0.4,
            "count": 0
           },
           {
            "bin_start": -0.4,
            "bin_end": -0.3,
            "count": 0
           },
           {
            "bin_start": -0.3,
            "bin_end": -0.19999999999999996,
            "count": 0
           },
           {
            "bin_start": -0.19999999999999996,
            "bin_end": -0.09999999999999998,
            "count": 0
           },
           {
            "bin_start": -0.09999999999999998,
            "bin_end": 0,
            "count": 0
           },
           {
            "bin_start": 0,
            "bin_end": 0.10000000000000009,
            "count": 5
           },
           {
            "bin_start": 0.10000000000000009,
            "bin_end": 0.20000000000000007,
            "count": 0
           },
           {
            "bin_start": 0.20000000000000007,
            "bin_end": 0.30000000000000004,
            "count": 0
           },
           {
            "bin_start": 0.30000000000000004,
            "bin_end": 0.4,
            "count": 0
           },
           {
            "bin_start": 0.4,
            "bin_end": 0.5,
            "count": 0
           }
          ]
         }
        },
        {
         "name": "_deepnote_index_column",
         "dtype": "int64"
        }
       ],
       "rows": [
        {
         "Edad": 67,
         "Género": "male",
         "Trabajo": 2,
         "Alojamiento": "own",
         "Cuentas de ahorro": "nan",
         "Cuenta de cheques": "little",
         "Monto de crédito": 1169,
         "Duración": 6,
         "Propósito": "radio/TV",
         "Riesgo": 1,
         "Género_male": 1,
         "Alojamiento_own": 1,
         "Alojamiento_rent": 0,
         "Cuentas de ahorro_moderate": 0,
         "Cuentas de ahorro_quite rich": 0,
         "Cuentas de ahorro_rich": 0,
         "Cuenta de cheques_moderate": 0,
         "Cuenta de cheques_rich": 0,
         "Propósito_car": 0,
         "Propósito_domestic appliances": 0,
         "Propósito_education": 0,
         "Propósito_furniture/equipment": 0,
         "Propósito_radio/TV": 1,
         "Propósito_repairs": 0,
         "Propósito_vacation/others": 0,
         "_deepnote_index_column": 0
        },
        {
         "Edad": 22,
         "Género": "female",
         "Trabajo": 2,
         "Alojamiento": "own",
         "Cuentas de ahorro": "little",
         "Cuenta de cheques": "moderate",
         "Monto de crédito": 5951,
         "Duración": 48,
         "Propósito": "radio/TV",
         "Riesgo": 0,
         "Género_male": 0,
         "Alojamiento_own": 1,
         "Alojamiento_rent": 0,
         "Cuentas de ahorro_moderate": 0,
         "Cuentas de ahorro_quite rich": 0,
         "Cuentas de ahorro_rich": 0,
         "Cuenta de cheques_moderate": 1,
         "Cuenta de cheques_rich": 0,
         "Propósito_car": 0,
         "Propósito_domestic appliances": 0,
         "Propósito_education": 0,
         "Propósito_furniture/equipment": 0,
         "Propósito_radio/TV": 1,
         "Propósito_repairs": 0,
         "Propósito_vacation/others": 0,
         "_deepnote_index_column": 1
        },
        {
         "Edad": 49,
         "Género": "male",
         "Trabajo": 1,
         "Alojamiento": "own",
         "Cuentas de ahorro": "little",
         "Cuenta de cheques": "nan",
         "Monto de crédito": 2096,
         "Duración": 12,
         "Propósito": "education",
         "Riesgo": 1,
         "Género_male": 1,
         "Alojamiento_own": 1,
         "Alojamiento_rent": 0,
         "Cuentas de ahorro_moderate": 0,
         "Cuentas de ahorro_quite rich": 0,
         "Cuentas de ahorro_rich": 0,
         "Cuenta de cheques_moderate": 0,
         "Cuenta de cheques_rich": 0,
         "Propósito_car": 0,
         "Propósito_domestic appliances": 0,
         "Propósito_education": 1,
         "Propósito_furniture/equipment": 0,
         "Propósito_radio/TV": 0,
         "Propósito_repairs": 0,
         "Propósito_vacation/others": 0,
         "_deepnote_index_column": 2
        },
        {
         "Edad": 45,
         "Género": "male",
         "Trabajo": 2,
         "Alojamiento": "free",
         "Cuentas de ahorro": "little",
         "Cuenta de cheques": "little",
         "Monto de crédito": 7882,
         "Duración": 42,
         "Propósito": "furniture/equipment",
         "Riesgo": 1,
         "Género_male": 1,
         "Alojamiento_own": 0,
         "Alojamiento_rent": 0,
         "Cuentas de ahorro_moderate": 0,
         "Cuentas de ahorro_quite rich": 0,
         "Cuentas de ahorro_rich": 0,
         "Cuenta de cheques_moderate": 0,
         "Cuenta de cheques_rich": 0,
         "Propósito_car": 0,
         "Propósito_domestic appliances": 0,
         "Propósito_education": 0,
         "Propósito_furniture/equipment": 1,
         "Propósito_radio/TV": 0,
         "Propósito_repairs": 0,
         "Propósito_vacation/others": 0,
         "_deepnote_index_column": 3
        },
        {
         "Edad": 53,
         "Género": "male",
         "Trabajo": 2,
         "Alojamiento": "free",
         "Cuentas de ahorro": "little",
         "Cuenta de cheques": "little",
         "Monto de crédito": 4870,
         "Duración": 24,
         "Propósito": "car",
         "Riesgo": 0,
         "Género_male": 1,
         "Alojamiento_own": 0,
         "Alojamiento_rent": 0,
         "Cuentas de ahorro_moderate": 0,
         "Cuentas de ahorro_quite rich": 0,
         "Cuentas de ahorro_rich": 0,
         "Cuenta de cheques_moderate": 0,
         "Cuenta de cheques_rich": 0,
         "Propósito_car": 1,
         "Propósito_domestic appliances": 0,
         "Propósito_education": 0,
         "Propósito_furniture/equipment": 0,
         "Propósito_radio/TV": 0,
         "Propósito_repairs": 0,
         "Propósito_vacation/others": 0,
         "_deepnote_index_column": 4
        }
       ]
      },
      "text/plain": "   Edad  Género  Trabajo Alojamiento Cuentas de ahorro Cuenta de cheques  \\\n0    67    male        2         own               NaN            little   \n1    22  female        2         own            little          moderate   \n2    49    male        1         own            little               NaN   \n3    45    male        2        free            little            little   \n4    53    male        2        free            little            little   \n\n   Monto de crédito  Duración            Propósito  Riesgo  ...  \\\n0              1169         6             radio/TV       1  ...   \n1              5951        48             radio/TV       0  ...   \n2              2096        12            education       1  ...   \n3              7882        42  furniture/equipment       1  ...   \n4              4870        24                  car       0  ...   \n\n   Cuentas de ahorro_rich  Cuenta de cheques_moderate  Cuenta de cheques_rich  \\\n0                       0                           0                       0   \n1                       0                           1                       0   \n2                       0                           0                       0   \n3                       0                           0                       0   \n4                       0                           0                       0   \n\n   Propósito_car  Propósito_domestic appliances  Propósito_education  \\\n0              0                              0                    0   \n1              0                              0                    0   \n2              0                              0                    1   \n3              0                              0                    0   \n4              1                              0                    0   \n\n   Propósito_furniture/equipment  Propósito_radio/TV  Propósito_repairs  \\\n0                              0                   1                  0   \n1                              0                   1                  0   \n2                              0                   0                  0   \n3                              1                   0                  0   \n4                              0                   0                  0   \n\n   Propósito_vacation/others  \n0                          0  \n1                          0  \n2                          0  \n3                          0  \n4                          0  \n\n[5 rows x 25 columns]",
      "text/html": "<div>\n<style scoped>\n    .dataframe tbody tr th:only-of-type {\n        vertical-align: middle;\n    }\n\n    .dataframe tbody tr th {\n        vertical-align: top;\n    }\n\n    .dataframe thead th {\n        text-align: right;\n    }\n</style>\n<table border=\"1\" class=\"dataframe\">\n  <thead>\n    <tr style=\"text-align: right;\">\n      <th></th>\n      <th>Edad</th>\n      <th>Género</th>\n      <th>Trabajo</th>\n      <th>Alojamiento</th>\n      <th>Cuentas de ahorro</th>\n      <th>Cuenta de cheques</th>\n      <th>Monto de crédito</th>\n      <th>Duración</th>\n      <th>Propósito</th>\n      <th>Riesgo</th>\n      <th>...</th>\n      <th>Cuentas de ahorro_rich</th>\n      <th>Cuenta de cheques_moderate</th>\n      <th>Cuenta de cheques_rich</th>\n      <th>Propósito_car</th>\n      <th>Propósito_domestic appliances</th>\n      <th>Propósito_education</th>\n      <th>Propósito_furniture/equipment</th>\n      <th>Propósito_radio/TV</th>\n      <th>Propósito_repairs</th>\n      <th>Propósito_vacation/others</th>\n    </tr>\n  </thead>\n  <tbody>\n    <tr>\n      <th>0</th>\n      <td>67</td>\n      <td>male</td>\n      <td>2</td>\n      <td>own</td>\n      <td>NaN</td>\n      <td>little</td>\n      <td>1169</td>\n      <td>6</td>\n      <td>radio/TV</td>\n      <td>1</td>\n      <td>...</td>\n      <td>0</td>\n      <td>0</td>\n      <td>0</td>\n      <td>0</td>\n      <td>0</td>\n      <td>0</td>\n      <td>0</td>\n      <td>1</td>\n      <td>0</td>\n      <td>0</td>\n    </tr>\n    <tr>\n      <th>1</th>\n      <td>22</td>\n      <td>female</td>\n      <td>2</td>\n      <td>own</td>\n      <td>little</td>\n      <td>moderate</td>\n      <td>5951</td>\n      <td>48</td>\n      <td>radio/TV</td>\n      <td>0</td>\n      <td>...</td>\n      <td>0</td>\n      <td>1</td>\n      <td>0</td>\n      <td>0</td>\n      <td>0</td>\n      <td>0</td>\n      <td>0</td>\n      <td>1</td>\n      <td>0</td>\n      <td>0</td>\n    </tr>\n    <tr>\n      <th>2</th>\n      <td>49</td>\n      <td>male</td>\n      <td>1</td>\n      <td>own</td>\n      <td>little</td>\n      <td>NaN</td>\n      <td>2096</td>\n      <td>12</td>\n      <td>education</td>\n      <td>1</td>\n      <td>...</td>\n      <td>0</td>\n      <td>0</td>\n      <td>0</td>\n      <td>0</td>\n      <td>0</td>\n      <td>1</td>\n      <td>0</td>\n      <td>0</td>\n      <td>0</td>\n      <td>0</td>\n    </tr>\n    <tr>\n      <th>3</th>\n      <td>45</td>\n      <td>male</td>\n      <td>2</td>\n      <td>free</td>\n      <td>little</td>\n      <td>little</td>\n      <td>7882</td>\n      <td>42</td>\n      <td>furniture/equipment</td>\n      <td>1</td>\n      <td>...</td>\n      <td>0</td>\n      <td>0</td>\n      <td>0</td>\n      <td>0</td>\n      <td>0</td>\n      <td>0</td>\n      <td>1</td>\n      <td>0</td>\n      <td>0</td>\n      <td>0</td>\n    </tr>\n    <tr>\n      <th>4</th>\n      <td>53</td>\n      <td>male</td>\n      <td>2</td>\n      <td>free</td>\n      <td>little</td>\n      <td>little</td>\n      <td>4870</td>\n      <td>24</td>\n      <td>car</td>\n      <td>0</td>\n      <td>...</td>\n      <td>0</td>\n      <td>0</td>\n      <td>0</td>\n      <td>1</td>\n      <td>0</td>\n      <td>0</td>\n      <td>0</td>\n      <td>0</td>\n      <td>0</td>\n      <td>0</td>\n    </tr>\n  </tbody>\n</table>\n<p>5 rows × 25 columns</p>\n</div>"
     },
     "metadata": {}
    }
   ]
  },
  {
   "cell_type": "code",
   "metadata": {
    "tags": [],
    "cell_id": "00032-ac9e97f1-c569-40e5-83d2-891f90b929e0",
    "deepnote_to_be_reexecuted": false,
    "source_hash": "ff1ab149",
    "execution_start": 1640215943000,
    "execution_millis": 4,
    "deepnote_app_coordinates": {
     "x": 0,
     "y": 192,
     "w": 12,
     "h": 5
    },
    "deepnote_cell_type": "code"
   },
   "source": "# Eliminamos las variables categoricas\ncredit_risk = credit_risk.drop([\"Género\",\n                                \"Alojamiento\",\n                                \"Cuentas de ahorro\",\n                                \"Cuenta de cheques\",\n                                \"Propósito\"], axis = 1)",
   "execution_count": null,
   "outputs": []
  },
  {
   "cell_type": "code",
   "metadata": {
    "tags": [],
    "cell_id": "00033-6bc71b04-d76b-4338-8aab-3a9a2fe537f3",
    "deepnote_to_be_reexecuted": false,
    "source_hash": "24c281b3",
    "execution_start": 1640216040785,
    "execution_millis": 5,
    "deepnote_app_coordinates": {
     "x": 0,
     "y": 198,
     "w": 12,
     "h": 5
    },
    "deepnote_cell_type": "code"
   },
   "source": "# Obtenemos la información nuevamente de nuestras variables\ncredit_risk.info()",
   "execution_count": null,
   "outputs": [
    {
     "name": "stdout",
     "text": "<class 'pandas.core.frame.DataFrame'>\nRangeIndex: 1000 entries, 0 to 999\nData columns (total 20 columns):\n #   Column                         Non-Null Count  Dtype\n---  ------                         --------------  -----\n 0   Edad                           1000 non-null   int64\n 1   Trabajo                        1000 non-null   int64\n 2   Monto de crédito               1000 non-null   int64\n 3   Duración                       1000 non-null   int64\n 4   Riesgo                         1000 non-null   int64\n 5   Género_male                    1000 non-null   uint8\n 6   Alojamiento_own                1000 non-null   uint8\n 7   Alojamiento_rent               1000 non-null   uint8\n 8   Cuentas de ahorro_moderate     1000 non-null   uint8\n 9   Cuentas de ahorro_quite rich   1000 non-null   uint8\n 10  Cuentas de ahorro_rich         1000 non-null   uint8\n 11  Cuenta de cheques_moderate     1000 non-null   uint8\n 12  Cuenta de cheques_rich         1000 non-null   uint8\n 13  Propósito_car                  1000 non-null   uint8\n 14  Propósito_domestic appliances  1000 non-null   uint8\n 15  Propósito_education            1000 non-null   uint8\n 16  Propósito_furniture/equipment  1000 non-null   uint8\n 17  Propósito_radio/TV             1000 non-null   uint8\n 18  Propósito_repairs              1000 non-null   uint8\n 19  Propósito_vacation/others      1000 non-null   uint8\ndtypes: int64(5), uint8(15)\nmemory usage: 53.8 KB\n",
     "output_type": "stream",
     "data": {}
    }
   ]
  },
  {
   "cell_type": "code",
   "metadata": {
    "tags": [],
    "cell_id": "00034-ea56da2d-2e13-4921-9bc4-91f2c55ed265",
    "deepnote_to_be_reexecuted": false,
    "source_hash": "49646854",
    "execution_start": 1640216063222,
    "execution_millis": 192,
    "deepnote_app_coordinates": {
     "x": 0,
     "y": 204,
     "w": 12,
     "h": 5
    },
    "deepnote_cell_type": "code"
   },
   "source": "# Matriz de correlación\ncredit_risk.corr()",
   "execution_count": null,
   "outputs": [
    {
     "output_type": "execute_result",
     "execution_count": 29,
     "data": {
      "application/vnd.deepnote.dataframe.v3+json": {
       "column_count": 20,
       "row_count": 20,
       "columns": [
        {
         "name": "Edad",
         "dtype": "float64",
         "stats": {
          "unique_count": 20,
          "nan_count": 0,
          "min": "-0.21262041600292306",
          "max": "1.0",
          "histogram": [
           {
            "bin_start": -0.21262041600292306,
            "bin_end": -0.09135837440263075,
            "count": 2
           },
           {
            "bin_start": -0.09135837440263075,
            "bin_end": 0.02990366719766155,
            "count": 7
           },
           {
            "bin_start": 0.02990366719766155,
            "bin_end": 0.15116570879795385,
            "count": 9
           },
           {
            "bin_start": 0.15116570879795385,
            "bin_end": 0.2724277503982462,
            "count": 1
           },
           {
            "bin_start": 0.2724277503982462,
            "bin_end": 0.3936897919985385,
            "count": 0
           },
           {
            "bin_start": 0.3936897919985385,
            "bin_end": 0.5149518335988308,
            "count": 0
           },
           {
            "bin_start": 0.5149518335988308,
            "bin_end": 0.6362138751991231,
            "count": 0
           },
           {
            "bin_start": 0.6362138751991231,
            "bin_end": 0.7574759167994154,
            "count": 0
           },
           {
            "bin_start": 0.7574759167994154,
            "bin_end": 0.8787379583997077,
            "count": 0
           },
           {
            "bin_start": 0.8787379583997077,
            "bin_end": 1,
            "count": 1
           }
          ]
         }
        },
        {
         "name": "Trabajo",
         "dtype": "float64",
         "stats": {
          "unique_count": 20,
          "nan_count": 0,
          "min": "-0.09275113085259033",
          "max": "1.0",
          "histogram": [
           {
            "bin_start": -0.09275113085259033,
            "bin_end": 0.016523982232668696,
            "count": 14
           },
           {
            "bin_start": 0.016523982232668696,
            "bin_end": 0.1257990953179277,
            "count": 3
           },
           {
            "bin_start": 0.1257990953179277,
            "bin_end": 0.2350742084031867,
            "count": 1
           },
           {
            "bin_start": 0.2350742084031867,
            "bin_end": 0.34434932148844577,
            "count": 1
           },
           {
            "bin_start": 0.34434932148844577,
            "bin_end": 0.4536244345737048,
            "count": 0
           },
           {
            "bin_start": 0.4536244345737048,
            "bin_end": 0.5628995476589638,
            "count": 0
           },
           {
            "bin_start": 0.5628995476589638,
            "bin_end": 0.6721746607442228,
            "count": 0
           },
           {
            "bin_start": 0.6721746607442228,
            "bin_end": 0.7814497738294819,
            "count": 0
           },
           {
            "bin_start": 0.7814497738294819,
            "bin_end": 0.8907248869147409,
            "count": 0
           },
           {
            "bin_start": 0.8907248869147409,
            "bin_end": 1,
            "count": 1
           }
          ]
         }
        },
        {
         "name": "Monto de crédito",
         "dtype": "float64",
         "stats": {
          "unique_count": 20,
          "nan_count": 0,
          "min": "-0.1732034379773984",
          "max": "1.0",
          "histogram": [
           {
            "bin_start": -0.1732034379773984,
            "bin_end": -0.05588309417965856,
            "count": 6
           },
           {
            "bin_start": -0.05588309417965856,
            "bin_end": 0.06143724961808128,
            "count": 7
           },
           {
            "bin_start": 0.06143724961808128,
            "bin_end": 0.17875759341582115,
            "count": 3
           },
           {
            "bin_start": 0.17875759341582115,
            "bin_end": 0.29607793721356096,
            "count": 2
           },
           {
            "bin_start": 0.29607793721356096,
            "bin_end": 0.41339828101130077,
            "count": 0
           },
           {
            "bin_start": 0.41339828101130077,
            "bin_end": 0.5307186248090408,
            "count": 0
           },
           {
            "bin_start": 0.5307186248090408,
            "bin_end": 0.6480389686067805,
            "count": 1
           },
           {
            "bin_start": 0.6480389686067805,
            "bin_end": 0.7653593124045204,
            "count": 0
           },
           {
            "bin_start": 0.7653593124045204,
            "bin_end": 0.8826796562022603,
            "count": 0
           },
           {
            "bin_start": 0.8826796562022603,
            "bin_end": 1,
            "count": 1
           }
          ]
         }
        },
        {
         "name": "Duración",
         "dtype": "float64",
         "stats": {
          "unique_count": 20,
          "nan_count": 0,
          "min": "-0.21492666544189076",
          "max": "1.0",
          "histogram": [
           {
            "bin_start": -0.21492666544189076,
            "bin_end": -0.0934339988977017,
            "count": 1
           },
           {
            "bin_start": -0.0934339988977017,
            "bin_end": 0.028058667646487373,
            "count": 12
           },
           {
            "bin_start": 0.028058667646487373,
            "bin_end": 0.14955133419067645,
            "count": 4
           },
           {
            "bin_start": 0.14955133419067645,
            "bin_end": 0.2710440007348655,
            "count": 1
           },
           {
            "bin_start": 0.2710440007348655,
            "bin_end": 0.39253666727905456,
            "count": 0
           },
           {
            "bin_start": 0.39253666727905456,
            "bin_end": 0.5140293338232437,
            "count": 0
           },
           {
            "bin_start": 0.5140293338232437,
            "bin_end": 0.6355220003674327,
            "count": 1
           },
           {
            "bin_start": 0.6355220003674327,
            "bin_end": 0.7570146669116218,
            "count": 0
           },
           {
            "bin_start": 0.7570146669116218,
            "bin_end": 0.8785073334558108,
            "count": 0
           },
           {
            "bin_start": 0.8785073334558108,
            "bin_end": 1,
            "count": 1
           }
          ]
         }
        },
        {
         "name": "Riesgo",
         "dtype": "float64",
         "stats": {
          "unique_count": 20,
          "nan_count": 0,
          "min": "-0.21492666544189076",
          "max": "1.0",
          "histogram": [
           {
            "bin_start": -0.21492666544189076,
            "bin_end": -0.0934339988977017,
            "count": 3
           },
           {
            "bin_start": -0.0934339988977017,
            "bin_end": 0.028058667646487373,
            "count": 9
           },
           {
            "bin_start": 0.028058667646487373,
            "bin_end": 0.14955133419067645,
            "count": 7
           },
           {
            "bin_start": 0.14955133419067645,
            "bin_end": 0.2710440007348655,
            "count": 0
           },
           {
            "bin_start": 0.2710440007348655,
            "bin_end": 0.39253666727905456,
            "count": 0
           },
           {
            "bin_start": 0.39253666727905456,
            "bin_end": 0.5140293338232437,
            "count": 0
           },
           {
            "bin_start": 0.5140293338232437,
            "bin_end": 0.6355220003674327,
            "count": 0
           },
           {
            "bin_start": 0.6355220003674327,
            "bin_end": 0.7570146669116218,
            "count": 0
           },
           {
            "bin_start": 0.7570146669116218,
            "bin_end": 0.8785073334558108,
            "count": 0
           },
           {
            "bin_start": 0.8785073334558108,
            "bin_end": 1,
            "count": 1
           }
          ]
         }
        },
        {
         "name": "Género_male",
         "dtype": "float64",
         "stats": {
          "unique_count": 20,
          "nan_count": 0,
          "min": "-0.2228453330825326",
          "max": "1.0",
          "histogram": [
           {
            "bin_start": -0.2228453330825326,
            "bin_end": -0.10056079977427934,
            "count": 1
           },
           {
            "bin_start": -0.10056079977427934,
            "bin_end": 0.021723733533973916,
            "count": 9
           },
           {
            "bin_start": 0.021723733533973916,
            "bin_end": 0.14400826684222715,
            "count": 8
           },
           {
            "bin_start": 0.14400826684222715,
            "bin_end": 0.2662928001504804,
            "count": 1
           },
           {
            "bin_start": 0.2662928001504804,
            "bin_end": 0.3885773334587337,
            "count": 0
           },
           {
            "bin_start": 0.3885773334587337,
            "bin_end": 0.5108618667669869,
            "count": 0
           },
           {
            "bin_start": 0.5108618667669869,
            "bin_end": 0.6331464000752401,
            "count": 0
           },
           {
            "bin_start": 0.6331464000752401,
            "bin_end": 0.7554309333834934,
            "count": 0
           },
           {
            "bin_start": 0.7554309333834934,
            "bin_end": 0.8777154666917466,
            "count": 0
           },
           {
            "bin_start": 0.8777154666917466,
            "bin_end": 1,
            "count": 1
           }
          ]
         }
        },
        {
         "name": "Alojamiento_own",
         "dtype": "float64",
         "stats": {
          "unique_count": 20,
          "nan_count": 0,
          "min": "-0.7359676982390787",
          "max": "1.0",
          "histogram": [
           {
            "bin_start": -0.7359676982390787,
            "bin_end": -0.5623709284151708,
            "count": 1
           },
           {
            "bin_start": -0.5623709284151708,
            "bin_end": -0.38877415859126296,
            "count": 0
           },
           {
            "bin_start": -0.38877415859126296,
            "bin_end": -0.21517738876735504,
            "count": 0
           },
           {
            "bin_start": -0.21517738876735504,
            "bin_end": -0.04158061894344722,
            "count": 5
           },
           {
            "bin_start": -0.04158061894344722,
            "bin_end": 0.1320161508804606,
            "count": 11
           },
           {
            "bin_start": 0.1320161508804606,
            "bin_end": 0.30561292070436863,
            "count": 2
           },
           {
            "bin_start": 0.30561292070436863,
            "bin_end": 0.47920969052827644,
            "count": 0
           },
           {
            "bin_start": 0.47920969052827644,
            "bin_end": 0.6528064603521843,
            "count": 0
           },
           {
            "bin_start": 0.6528064603521843,
            "bin_end": 0.8264032301760921,
            "count": 0
           },
           {
            "bin_start": 0.8264032301760921,
            "bin_end": 1,
            "count": 1
           }
          ]
         }
        },
        {
         "name": "Alojamiento_rent",
         "dtype": "float64",
         "stats": {
          "unique_count": 20,
          "nan_count": 0,
          "min": "-0.7359676982390787",
          "max": "1.0",
          "histogram": [
           {
            "bin_start": -0.7359676982390787,
            "bin_end": -0.5623709284151708,
            "count": 1
           },
           {
            "bin_start": -0.5623709284151708,
            "bin_end": -0.38877415859126296,
            "count": 0
           },
           {
            "bin_start": -0.38877415859126296,
            "bin_end": -0.21517738876735504,
            "count": 1
           },
           {
            "bin_start": -0.21517738876735504,
            "bin_end": -0.04158061894344722,
            "count": 5
           },
           {
            "bin_start": -0.04158061894344722,
            "bin_end": 0.1320161508804606,
            "count": 12
           },
           {
            "bin_start": 0.1320161508804606,
            "bin_end": 0.30561292070436863,
            "count": 0
           },
           {
            "bin_start": 0.30561292070436863,
            "bin_end": 0.47920969052827644,
            "count": 0
           },
           {
            "bin_start": 0.47920969052827644,
            "bin_end": 0.6528064603521843,
            "count": 0
           },
           {
            "bin_start": 0.6528064603521843,
            "bin_end": 0.8264032301760921,
            "count": 0
           },
           {
            "bin_start": 0.8264032301760921,
            "bin_end": 1,
            "count": 1
           }
          ]
         }
        },
        {
         "name": "Cuentas de ahorro_moderate",
         "dtype": "float64",
         "stats": {
          "unique_count": 20,
          "nan_count": 0,
          "min": "-0.08786640747653832",
          "max": "1.0",
          "histogram": [
           {
            "bin_start": -0.08786640747653832,
            "bin_end": 0.020920233271115515,
            "count": 14
           },
           {
            "bin_start": 0.020920233271115515,
            "bin_end": 0.12970687401876935,
            "count": 4
           },
           {
            "bin_start": 0.12970687401876935,
            "bin_end": 0.2384935147664232,
            "count": 1
           },
           {
            "bin_start": 0.2384935147664232,
            "bin_end": 0.347280155514077,
            "count": 0
           },
           {
            "bin_start": 0.347280155514077,
            "bin_end": 0.45606679626173086,
            "count": 0
           },
           {
            "bin_start": 0.45606679626173086,
            "bin_end": 0.5648534370093847,
            "count": 0
           },
           {
            "bin_start": 0.5648534370093847,
            "bin_end": 0.6736400777570385,
            "count": 0
           },
           {
            "bin_start": 0.6736400777570385,
            "bin_end": 0.7824267185046924,
            "count": 0
           },
           {
            "bin_start": 0.7824267185046924,
            "bin_end": 0.8912133592523462,
            "count": 0
           },
           {
            "bin_start": 0.8912133592523462,
            "bin_end": 1,
            "count": 1
           }
          ]
         }
        },
        {
         "name": "Cuentas de ahorro_quite rich",
         "dtype": "float64",
         "stats": {
          "unique_count": 20,
          "nan_count": 0,
          "min": "-0.08786640747653832",
          "max": "1.0",
          "histogram": [
           {
            "bin_start": -0.08786640747653832,
            "bin_end": 0.020920233271115515,
            "count": 14
           },
           {
            "bin_start": 0.020920233271115515,
            "bin_end": 0.12970687401876935,
            "count": 5
           },
           {
            "bin_start": 0.12970687401876935,
            "bin_end": 0.2384935147664232,
            "count": 0
           },
           {
            "bin_start": 0.2384935147664232,
            "bin_end": 0.347280155514077,
            "count": 0
           },
           {
            "bin_start": 0.347280155514077,
            "bin_end": 0.45606679626173086,
            "count": 0
           },
           {
            "bin_start": 0.45606679626173086,
            "bin_end": 0.5648534370093847,
            "count": 0
           },
           {
            "bin_start": 0.5648534370093847,
            "bin_end": 0.6736400777570385,
            "count": 0
           },
           {
            "bin_start": 0.6736400777570385,
            "bin_end": 0.7824267185046924,
            "count": 0
           },
           {
            "bin_start": 0.7824267185046924,
            "bin_end": 0.8912133592523462,
            "count": 0
           },
           {
            "bin_start": 0.8912133592523462,
            "bin_end": 1,
            "count": 1
           }
          ]
         }
        },
        {
         "name": "Cuentas de ahorro_rich",
         "dtype": "float64",
         "stats": {
          "unique_count": 19,
          "nan_count": 0,
          "min": "-0.07608946584531064",
          "max": "1.0",
          "histogram": [
           {
            "bin_start": -0.07608946584531064,
            "bin_end": 0.031519480739220423,
            "count": 17
           },
           {
            "bin_start": 0.031519480739220423,
            "bin_end": 0.13912842732375147,
            "count": 2
           },
           {
            "bin_start": 0.13912842732375147,
            "bin_end": 0.24673737390828254,
            "count": 0
           },
           {
            "bin_start": 0.24673737390828254,
            "bin_end": 0.3543463204928136,
            "count": 0
           },
           {
            "bin_start": 0.3543463204928136,
            "bin_end": 0.4619552670773447,
            "count": 0
           },
           {
            "bin_start": 0.4619552670773447,
            "bin_end": 0.5695642136618757,
            "count": 0
           },
           {
            "bin_start": 0.5695642136618757,
            "bin_end": 0.6771731602464068,
            "count": 0
           },
           {
            "bin_start": 0.6771731602464068,
            "bin_end": 0.7847821068309379,
            "count": 0
           },
           {
            "bin_start": 0.7847821068309379,
            "bin_end": 0.8923910534154689,
            "count": 0
           },
           {
            "bin_start": 0.8923910534154689,
            "bin_end": 1,
            "count": 1
           }
          ]
         }
        },
        {
         "name": "Cuenta de cheques_moderate",
         "dtype": "float64",
         "stats": {
          "unique_count": 20,
          "nan_count": 0,
          "min": "-0.15729609128835725",
          "max": "1.0",
          "histogram": [
           {
            "bin_start": -0.15729609128835725,
            "bin_end": -0.04156648215952154,
            "count": 6
           },
           {
            "bin_start": -0.04156648215952154,
            "bin_end": 0.07416312696931418,
            "count": 9
           },
           {
            "bin_start": 0.07416312696931418,
            "bin_end": 0.18989273609814988,
            "count": 4
           },
           {
            "bin_start": 0.18989273609814988,
            "bin_end": 0.3056223452269856,
            "count": 0
           },
           {
            "bin_start": 0.3056223452269856,
            "bin_end": 0.42135195435582135,
            "count": 0
           },
           {
            "bin_start": 0.42135195435582135,
            "bin_end": 0.5370815634846571,
            "count": 0
           },
           {
            "bin_start": 0.5370815634846571,
            "bin_end": 0.6528111726134929,
            "count": 0
           },
           {
            "bin_start": 0.6528111726134929,
            "bin_end": 0.7685407817423284,
            "count": 0
           },
           {
            "bin_start": 0.7685407817423284,
            "bin_end": 0.8842703908711642,
            "count": 0
           },
           {
            "bin_start": 0.8842703908711642,
            "bin_end": 1,
            "count": 1
           }
          ]
         }
        },
        {
         "name": "Cuenta de cheques_rich",
         "dtype": "float64",
         "stats": {
          "unique_count": 20,
          "nan_count": 0,
          "min": "-0.15729609128835725",
          "max": "1.0",
          "histogram": [
           {
            "bin_start": -0.15729609128835725,
            "bin_end": -0.04156648215952154,
            "count": 4
           },
           {
            "bin_start": -0.04156648215952154,
            "bin_end": 0.07416312696931418,
            "count": 15
           },
           {
            "bin_start": 0.07416312696931418,
            "bin_end": 0.18989273609814988,
            "count": 0
           },
           {
            "bin_start": 0.18989273609814988,
            "bin_end": 0.3056223452269856,
            "count": 0
           },
           {
            "bin_start": 0.3056223452269856,
            "bin_end": 0.42135195435582135,
            "count": 0
           },
           {
            "bin_start": 0.42135195435582135,
            "bin_end": 0.5370815634846571,
            "count": 0
           },
           {
            "bin_start": 0.5370815634846571,
            "bin_end": 0.6528111726134929,
            "count": 0
           },
           {
            "bin_start": 0.6528111726134929,
            "bin_end": 0.7685407817423284,
            "count": 0
           },
           {
            "bin_start": 0.7685407817423284,
            "bin_end": 0.8842703908711642,
            "count": 0
           },
           {
            "bin_start": 0.8842703908711642,
            "bin_end": 1,
            "count": 1
           }
          ]
         }
        },
        {
         "name": "Propósito_car",
         "dtype": "float64",
         "stats": {
          "unique_count": 20,
          "nan_count": 0,
          "min": "-0.4446015308115042",
          "max": "1.0",
          "histogram": [
           {
            "bin_start": -0.4446015308115042,
            "bin_end": -0.3001413777303538,
            "count": 2
           },
           {
            "bin_start": -0.3001413777303538,
            "bin_end": -0.15568122464920342,
            "count": 1
           },
           {
            "bin_start": -0.15568122464920342,
            "bin_end": -0.01122107156805302,
            "count": 8
           },
           {
            "bin_start": -0.01122107156805302,
            "bin_end": 0.13323908151309738,
            "count": 8
           },
           {
            "bin_start": 0.13323908151309738,
            "bin_end": 0.27769923459424783,
            "count": 0
           },
           {
            "bin_start": 0.27769923459424783,
            "bin_end": 0.4221593876753982,
            "count": 0
           },
           {
            "bin_start": 0.4221593876753982,
            "bin_end": 0.5666195407565485,
            "count": 0
           },
           {
            "bin_start": 0.5666195407565485,
            "bin_end": 0.711079693837699,
            "count": 0
           },
           {
            "bin_start": 0.711079693837699,
            "bin_end": 0.8555398469188494,
            "count": 0
           },
           {
            "bin_start": 0.8555398469188494,
            "bin_end": 1,
            "count": 1
           }
          ]
         }
        },
        {
         "name": "Propósito_domestic appliances",
         "dtype": "float64",
         "stats": {
          "unique_count": 20,
          "nan_count": 0,
          "min": "-0.07857245754285731",
          "max": "1.0",
          "histogram": [
           {
            "bin_start": -0.07857245754285731,
            "bin_end": 0.02928478821142841,
            "count": 17
           },
           {
            "bin_start": 0.02928478821142841,
            "bin_end": 0.13714203396571412,
            "count": 2
           },
           {
            "bin_start": 0.13714203396571412,
            "bin_end": 0.24499927971999985,
            "count": 0
           },
           {
            "bin_start": 0.24499927971999985,
            "bin_end": 0.3528565254742856,
            "count": 0
           },
           {
            "bin_start": 0.3528565254742856,
            "bin_end": 0.4607137712285713,
            "count": 0
           },
           {
            "bin_start": 0.4607137712285713,
            "bin_end": 0.568571016982857,
            "count": 0
           },
           {
            "bin_start": 0.568571016982857,
            "bin_end": 0.6764282627371427,
            "count": 0
           },
           {
            "bin_start": 0.6764282627371427,
            "bin_end": 0.7842855084914284,
            "count": 0
           },
           {
            "bin_start": 0.7842855084914284,
            "bin_end": 0.8921427542457141,
            "count": 0
           },
           {
            "bin_start": 0.8921427542457141,
            "bin_end": 1,
            "count": 1
           }
          ]
         }
        },
        {
         "name": "Propósito_education",
         "dtype": "float64",
         "stats": {
          "unique_count": 20,
          "nan_count": 0,
          "min": "-0.17852102853960333",
          "max": "1.0",
          "histogram": [
           {
            "bin_start": -0.17852102853960333,
            "bin_end": -0.060668925685643,
            "count": 4
           },
           {
            "bin_start": -0.060668925685643,
            "bin_end": 0.057183177168317334,
            "count": 14
           },
           {
            "bin_start": 0.057183177168317334,
            "bin_end": 0.1750352800222777,
            "count": 1
           },
           {
            "bin_start": 0.1750352800222777,
            "bin_end": 0.292887382876238,
            "count": 0
           },
           {
            "bin_start": 0.292887382876238,
            "bin_end": 0.4107394857301983,
            "count": 0
           },
           {
            "bin_start": 0.4107394857301983,
            "bin_end": 0.5285915885841588,
            "count": 0
           },
           {
            "bin_start": 0.5285915885841588,
            "bin_end": 0.6464436914381191,
            "count": 0
           },
           {
            "bin_start": 0.6464436914381191,
            "bin_end": 0.7642957942920794,
            "count": 0
           },
           {
            "bin_start": 0.7642957942920794,
            "bin_end": 0.8821478971460397,
            "count": 0
           },
           {
            "bin_start": 0.8821478971460397,
            "bin_end": 1,
            "count": 1
           }
          ]
         }
        },
        {
         "name": "Propósito_furniture/equipment",
         "dtype": "float64",
         "stats": {
          "unique_count": 20,
          "nan_count": 0,
          "min": "-0.33516257840473984",
          "max": "1.0",
          "histogram": [
           {
            "bin_start": -0.33516257840473984,
            "bin_end": -0.20164632056426585,
            "count": 2
           },
           {
            "bin_start": -0.20164632056426585,
            "bin_end": -0.06813006272379185,
            "count": 5
           },
           {
            "bin_start": -0.06813006272379185,
            "bin_end": 0.06538619511668214,
            "count": 11
           },
           {
            "bin_start": 0.06538619511668214,
            "bin_end": 0.19890245295715614,
            "count": 1
           },
           {
            "bin_start": 0.19890245295715614,
            "bin_end": 0.3324187107976302,
            "count": 0
           },
           {
            "bin_start": 0.3324187107976302,
            "bin_end": 0.46593496863810413,
            "count": 0
           },
           {
            "bin_start": 0.46593496863810413,
            "bin_end": 0.5994512264785781,
            "count": 0
           },
           {
            "bin_start": 0.5994512264785781,
            "bin_end": 0.7329674843190521,
            "count": 0
           },
           {
            "bin_start": 0.7329674843190521,
            "bin_end": 0.8664837421595262,
            "count": 0
           },
           {
            "bin_start": 0.8664837421595262,
            "bin_end": 1,
            "count": 1
           }
          ]
         }
        },
        {
         "name": "Propósito_radio/TV",
         "dtype": "float64",
         "stats": {
          "unique_count": 20,
          "nan_count": 0,
          "min": "-0.4446015308115042",
          "max": "1.0",
          "histogram": [
           {
            "bin_start": -0.4446015308115042,
            "bin_end": -0.3001413777303538,
            "count": 1
           },
           {
            "bin_start": -0.3001413777303538,
            "bin_end": -0.15568122464920342,
            "count": 3
           },
           {
            "bin_start": -0.15568122464920342,
            "bin_end": -0.01122107156805302,
            "count": 9
           },
           {
            "bin_start": -0.01122107156805302,
            "bin_end": 0.13323908151309738,
            "count": 5
           },
           {
            "bin_start": 0.13323908151309738,
            "bin_end": 0.27769923459424783,
            "count": 1
           },
           {
            "bin_start": 0.27769923459424783,
            "bin_end": 0.4221593876753982,
            "count": 0
           },
           {
            "bin_start": 0.4221593876753982,
            "bin_end": 0.5666195407565485,
            "count": 0
           },
           {
            "bin_start": 0.5666195407565485,
            "bin_end": 0.711079693837699,
            "count": 0
           },
           {
            "bin_start": 0.711079693837699,
            "bin_end": 0.8555398469188494,
            "count": 0
           },
           {
            "bin_start": 0.8555398469188494,
            "bin_end": 1,
            "count": 1
           }
          ]
         }
        },
        {
         "name": "Propósito_repairs",
         "dtype": "float64",
         "stats": {
          "unique_count": 20,
          "nan_count": 0,
          "min": "-0.10693013109183042",
          "max": "1.0",
          "histogram": [
           {
            "bin_start": -0.10693013109183042,
            "bin_end": 0.0037628820173526284,
            "count": 13
           },
           {
            "bin_start": 0.0037628820173526284,
            "bin_end": 0.11445589512653567,
            "count": 6
           },
           {
            "bin_start": 0.11445589512653567,
            "bin_end": 0.2251489082357187,
            "count": 0
           },
           {
            "bin_start": 0.2251489082357187,
            "bin_end": 0.33584192134490176,
            "count": 0
           },
           {
            "bin_start": 0.33584192134490176,
            "bin_end": 0.4465349344540848,
            "count": 0
           },
           {
            "bin_start": 0.4465349344540848,
            "bin_end": 0.5572279475632678,
            "count": 0
           },
           {
            "bin_start": 0.5572279475632678,
            "bin_end": 0.667920960672451,
            "count": 0
           },
           {
            "bin_start": 0.667920960672451,
            "bin_end": 0.778613973781634,
            "count": 0
           },
           {
            "bin_start": 0.778613973781634,
            "bin_end": 0.889306986890817,
            "count": 0
           },
           {
            "bin_start": 0.889306986890817,
            "bin_end": 1,
            "count": 1
           }
          ]
         }
        },
        {
         "name": "Propósito_vacation/others",
         "dtype": "float64",
         "stats": {
          "unique_count": 20,
          "nan_count": 0,
          "min": "-0.07857245754285724",
          "max": "1.0",
          "histogram": [
           {
            "bin_start": -0.07857245754285724,
            "bin_end": 0.029284788211428478,
            "count": 14
           },
           {
            "bin_start": 0.029284788211428478,
            "bin_end": 0.1371420339657142,
            "count": 4
           },
           {
            "bin_start": 0.1371420339657142,
            "bin_end": 0.2449992797199999,
            "count": 1
           },
           {
            "bin_start": 0.2449992797199999,
            "bin_end": 0.35285652547428564,
            "count": 0
           },
           {
            "bin_start": 0.35285652547428564,
            "bin_end": 0.4607137712285714,
            "count": 0
           },
           {
            "bin_start": 0.4607137712285714,
            "bin_end": 0.5685710169828571,
            "count": 0
           },
           {
            "bin_start": 0.5685710169828571,
            "bin_end": 0.6764282627371428,
            "count": 0
           },
           {
            "bin_start": 0.6764282627371428,
            "bin_end": 0.7842855084914285,
            "count": 0
           },
           {
            "bin_start": 0.7842855084914285,
            "bin_end": 0.8921427542457142,
            "count": 0
           },
           {
            "bin_start": 0.8921427542457142,
            "bin_end": 1,
            "count": 1
           }
          ]
         }
        },
        {
         "name": "_deepnote_index_column",
         "dtype": "object"
        }
       ],
       "rows": [
        {
         "Edad": 1,
         "Trabajo": 0.015673160074282277,
         "Monto de crédito": 0.03271641666544802,
         "Duración": -0.03613637401909835,
         "Riesgo": 0.09112740931949906,
         "Género_male": 0.16169415348003283,
         "Alojamiento_own": 0.006552664340659187,
         "Alojamiento_rent": -0.21262041600292306,
         "Cuentas de ahorro_moderate": -0.0753015367972373,
         "Cuentas de ahorro_quite rich": 0.030987875493250175,
         "Cuentas de ahorro_rich": 0.03200691416439527,
         "Cuenta de cheques_moderate": -0.07812147705435854,
         "Cuenta de cheques_rich": 0.03750386529347101,
         "Propósito_car": 0.09991919223344362,
         "Propósito_domestic appliances": -0.012562182925805526,
         "Propósito_education": 0.060390424304838326,
         "Propósito_furniture/equipment": -0.1276566156508131,
         "Propósito_radio/TV": -0.046401400780776855,
         "Propósito_repairs": 0.03956691215815232,
         "Propósito_vacation/others": 0.04236505723332353,
         "_deepnote_index_column": "Edad"
        },
        {
         "Edad": 0.015673160074282277,
         "Trabajo": 1,
         "Monto de crédito": 0.2853853330767862,
         "Duración": 0.21090973492313858,
         "Riesgo": -0.03273500138098762,
         "Género_male": 0.07029833765489299,
         "Alojamiento_own": -0.059393214670011005,
         "Alojamiento_rent": -0.03919515542316348,
         "Cuentas de ahorro_moderate": 0.004471920427130513,
         "Cuentas de ahorro_quite rich": -0.03749892239645815,
         "Cuentas de ahorro_rich": -0.017128448163487336,
         "Cuenta de cheques_moderate": -0.004059461515040537,
         "Cuenta de cheques_rich": -0.05009936675010678,
         "Propósito_car": 0.036761786041013614,
         "Propósito_domestic appliances": -0.025979381461554304,
         "Propósito_education": -0.02167210817001956,
         "Propósito_furniture/equipment": 0.01342199692222066,
         "Propósito_radio/TV": -0.02768258872939221,
         "Propósito_repairs": -0.09275113085259033,
         "Propósito_vacation/others": 0.10054358020185945,
         "_deepnote_index_column": "Trabajo"
        },
        {
         "Edad": 0.03271641666544802,
         "Trabajo": 0.2853853330767862,
         "Monto de crédito": 1,
         "Duración": 0.6249841983009851,
         "Riesgo": -0.15473864110152363,
         "Género_male": 0.09348243679016614,
         "Alojamiento_own": -0.11749726455770264,
         "Alojamiento_rent": -0.024610880697696586,
         "Cuentas de ahorro_moderate": 0.013545796763961723,
         "Cuentas de ahorro_quite rich": -0.06425630788698233,
         "Cuentas de ahorro_rich": -0.05554163473084242,
         "Cuenta de cheques_moderate": 0.11961233723674557,
         "Cuenta de cheques_rich": -0.10050986777653376,
         "Propósito_car": 0.1255753868893958,
         "Propósito_domestic appliances": -0.06926772715196364,
         "Propósito_education": -0.03479562311748702,
         "Propósito_furniture/equipment": -0.0340366464958407,
         "Propósito_radio/TV": -0.1732034379773984,
         "Propósito_repairs": -0.02887501518717782,
         "Propósito_vacation/others": 0.19289311247724503,
         "_deepnote_index_column": "Monto de crédito"
        },
        {
         "Edad": -0.03613637401909835,
         "Trabajo": 0.21090973492313858,
         "Monto de crédito": 0.6249841983009851,
         "Duración": 1,
         "Riesgo": -0.21492666544189076,
         "Género_male": 0.0814321941513483,
         "Alojamiento_own": -0.0751692492915072,
         "Alojamiento_rent": -0.06441714422185285,
         "Cuentas de ahorro_moderate": 0.05158684078924482,
         "Cuentas de ahorro_quite rich": -0.04025741241284569,
         "Cuentas de ahorro_rich": -0.048261229772131285,
         "Cuenta de cheques_moderate": 0.08945202976618069,
         "Cuenta de cheques_rich": -0.07645490086182428,
         "Propósito_car": -0.005320362123868657,
         "Propósito_domestic appliances": -0.0372120531721768,
         "Propósito_education": -0.025450243599111588,
         "Propósito_furniture/equipment": -0.0628036715267602,
         "Propósito_radio/TV": -0.04431890225554178,
         "Propósito_repairs": -0.022549376488054648,
         "Propósito_vacation/others": 0.10451621879982902,
         "_deepnote_index_column": "Duración"
        },
        {
         "Edad": 0.09112740931949906,
         "Trabajo": -0.03273500138098762,
         "Monto de crédito": -0.15473864110152363,
         "Duración": -0.21492666544189076,
         "Riesgo": 1,
         "Género_male": 0.07549269735627628,
         "Alojamiento_own": 0.1345887757223315,
         "Alojamiento_rent": -0.09278544671300054,
         "Cuentas de ahorro_moderate": -0.022255492664244248,
         "Cuentas de ahorro_quite rich": 0.07095408007339289,
         "Cuentas de ahorro_rich": 0.08574929257125427,
         "Cuenta de cheques_moderate": -0.1195808945014945,
         "Cuenta de cheques_rich": 0.04400949270375002,
         "Propósito_car": -0.022621152004271113,
         "Propósito_domestic appliances": -0.008016434504064682,
         "Propósito_education": -0.049084616784225495,
         "Propósito_furniture/equipment": -0.02097059912756869,
         "Propósito_radio/TV": 0.10692217131196405,
         "Propósito_repairs": -0.020827522893021342,
         "Propósito_vacation/others": -0.028057520764226386,
         "_deepnote_index_column": "Riesgo"
        },
        {
         "Edad": 0.16169415348003283,
         "Trabajo": 0.07029833765489299,
         "Monto de crédito": 0.09348243679016614,
         "Duración": 0.0814321941513483,
         "Riesgo": 0.07549269735627628,
         "Género_male": 1,
         "Alojamiento_own": 0.1196381652179008,
         "Alojamiento_rent": -0.2228453330825326,
         "Cuentas de ahorro_moderate": -0.000497940915959354,
         "Cuentas de ahorro_quite rich": 0.03141443425877862,
         "Cuentas de ahorro_rich": -0.041672804714839924,
         "Cuenta de cheques_moderate": -0.012726245197732092,
         "Cuenta de cheques_rich": -0.0041826583857296875,
         "Propósito_car": 0.047892727925032255,
         "Propósito_domestic appliances": -0.04527519811740283,
         "Propósito_education": -0.052397419417224665,
         "Propósito_furniture/equipment": -0.10046706379871433,
         "Propósito_radio/TV": 0.008668058804495336,
         "Propósito_repairs": 0.026827810369196976,
         "Propósito_vacation/others": 0.014297430984442994,
         "_deepnote_index_column": "Género_male"
        },
        {
         "Edad": 0.006552664340659187,
         "Trabajo": -0.059393214670011005,
         "Monto de crédito": -0.11749726455770264,
         "Duración": -0.0751692492915072,
         "Riesgo": 0.1345887757223315,
         "Género_male": 0.1196381652179008,
         "Alojamiento_own": 1,
         "Alojamiento_rent": -0.7359676982390787,
         "Cuentas de ahorro_moderate": -0.017738269673087743,
         "Cuentas de ahorro_quite rich": 0.0007369859956925701,
         "Cuentas de ahorro_rich": 0.028707452546657665,
         "Cuenta de cheques_moderate": 0.0010119883108562272,
         "Cuenta de cheques_rich": 0.018934171074520827,
         "Propósito_car": -0.09952555401465595,
         "Propósito_domestic appliances": 0.029316517857537028,
         "Propósito_education": -0.07568425252894896,
         "Propósito_furniture/equipment": -0.04049551553876715,
         "Propósito_radio/TV": 0.13470543412658786,
         "Propósito_repairs": 0.019802904091697673,
         "Propósito_vacation/others": -0.011288077513012817,
         "_deepnote_index_column": "Alojamiento_own"
        },
        {
         "Edad": -0.21262041600292306,
         "Trabajo": -0.03919515542316348,
         "Monto de crédito": -0.024610880697696586,
         "Duración": -0.06441714422185285,
         "Riesgo": -0.09278544671300054,
         "Género_male": -0.2228453330825326,
         "Alojamiento_own": -0.7359676982390787,
         "Alojamiento_rent": 1,
         "Cuentas de ahorro_moderate": 0.030577564745410846,
         "Cuentas de ahorro_quite rich": 0.00776247354482198,
         "Cuentas de ahorro_rich": 0.0049787804569807245,
         "Cuenta de cheques_moderate": -0.0008882680161627909,
         "Cuenta de cheques_rich": -0.035183438183100706,
         "Propósito_car": 0.014773335561386568,
         "Propósito_domestic appliances": -0.003545639084076737,
         "Propósito_education": -0.006210748593345453,
         "Propósito_furniture/equipment": 0.1056995417541977,
         "Propósito_radio/TV": -0.07041403987824553,
         "Propósito_repairs": -0.03446473240623411,
         "Propósito_vacation/others": -0.05145968076078902,
         "_deepnote_index_column": "Alojamiento_rent"
        },
        {
         "Edad": -0.0753015367972373,
         "Trabajo": 0.004471920427130513,
         "Monto de crédito": 0.013545796763961723,
         "Duración": 0.05158684078924482,
         "Riesgo": -0.022255492664244248,
         "Género_male": -0.000497940915959354,
         "Alojamiento_own": -0.017738269673087743,
         "Alojamiento_rent": 0.030577564745410846,
         "Cuentas de ahorro_moderate": 1,
         "Cuentas de ahorro_quite rich": -0.08786640747653832,
         "Cuentas de ahorro_rich": -0.07608946584531064,
         "Cuenta de cheques_moderate": 0.14313640388951754,
         "Cuenta de cheques_rich": -0.020162287060034756,
         "Propósito_car": 0.029851729506777117,
         "Propósito_domestic appliances": -0.007130632820353957,
         "Propósito_education": -0.015037652750918326,
         "Propósito_furniture/equipment": -0.08239789074136726,
         "Propósito_radio/TV": -0.013482105624064572,
         "Propósito_repairs": 0.016462677033515397,
         "Propósito_vacation/others": 0.02308391302860351,
         "_deepnote_index_column": "Cuentas de ahorro_moderate"
        },
        {
         "Edad": 0.030987875493250175,
         "Trabajo": -0.03749892239645815,
         "Monto de crédito": -0.06425630788698233,
         "Duración": -0.04025741241284569,
         "Riesgo": 0.07095408007339289,
         "Género_male": 0.03141443425877862,
         "Alojamiento_own": 0.0007369859956925701,
         "Alojamiento_rent": 0.00776247354482198,
         "Cuentas de ahorro_moderate": -0.08786640747653832,
         "Cuentas de ahorro_quite rich": 1,
         "Cuentas de ahorro_rich": -0.058224078500395036,
         "Cuenta de cheques_moderate": -0.05519796157974036,
         "Cuenta de cheques_rich": 0.0005251478036963831,
         "Propósito_car": -0.028133591240905528,
         "Propósito_domestic appliances": 0.04702309547957208,
         "Propósito_education": -0.012524438598874577,
         "Propósito_furniture/equipment": 0.006381944493717042,
         "Propósito_radio/TV": 0.04913369839806873,
         "Propósito_repairs": -0.010830947898486055,
         "Propósito_vacation/others": -0.028576736481154726,
         "_deepnote_index_column": "Cuentas de ahorro_quite rich"
        }
       ]
      },
      "text/plain": "                                   Edad   Trabajo  Monto de crédito  Duración  \\\nEdad                           1.000000  0.015673          0.032716 -0.036136   \nTrabajo                        0.015673  1.000000          0.285385  0.210910   \nMonto de crédito               0.032716  0.285385          1.000000  0.624984   \nDuración                      -0.036136  0.210910          0.624984  1.000000   \nRiesgo                         0.091127 -0.032735         -0.154739 -0.214927   \nGénero_male                    0.161694  0.070298          0.093482  0.081432   \nAlojamiento_own                0.006553 -0.059393         -0.117497 -0.075169   \nAlojamiento_rent              -0.212620 -0.039195         -0.024611 -0.064417   \nCuentas de ahorro_moderate    -0.075302  0.004472          0.013546  0.051587   \nCuentas de ahorro_quite rich   0.030988 -0.037499         -0.064256 -0.040257   \nCuentas de ahorro_rich         0.032007 -0.017128         -0.055542 -0.048261   \nCuenta de cheques_moderate    -0.078121 -0.004059          0.119612  0.089452   \nCuenta de cheques_rich         0.037504 -0.050099         -0.100510 -0.076455   \nPropósito_car                  0.099919  0.036762          0.125575 -0.005320   \nPropósito_domestic appliances -0.012562 -0.025979         -0.069268 -0.037212   \nPropósito_education            0.060390 -0.021672         -0.034796 -0.025450   \nPropósito_furniture/equipment -0.127657  0.013422         -0.034037 -0.062804   \nPropósito_radio/TV            -0.046401 -0.027683         -0.173203 -0.044319   \nPropósito_repairs              0.039567 -0.092751         -0.028875 -0.022549   \nPropósito_vacation/others      0.042365  0.100544          0.192893  0.104516   \n\n                                 Riesgo  Género_male  Alojamiento_own  \\\nEdad                           0.091127     0.161694         0.006553   \nTrabajo                       -0.032735     0.070298        -0.059393   \nMonto de crédito              -0.154739     0.093482        -0.117497   \nDuración                      -0.214927     0.081432        -0.075169   \nRiesgo                         1.000000     0.075493         0.134589   \nGénero_male                    0.075493     1.000000         0.119638   \nAlojamiento_own                0.134589     0.119638         1.000000   \nAlojamiento_rent              -0.092785    -0.222845        -0.735968   \nCuentas de ahorro_moderate    -0.022255    -0.000498        -0.017738   \nCuentas de ahorro_quite rich   0.070954     0.031414         0.000737   \nCuentas de ahorro_rich         0.085749    -0.041673         0.028707   \nCuenta de cheques_moderate    -0.119581    -0.012726         0.001012   \nCuenta de cheques_rich         0.044009    -0.004183         0.018934   \nPropósito_car                 -0.022621     0.047893        -0.099526   \nPropósito_domestic appliances -0.008016    -0.045275         0.029317   \nPropósito_education           -0.049085    -0.052397        -0.075684   \nPropósito_furniture/equipment -0.020971    -0.100467        -0.040496   \nPropósito_radio/TV             0.106922     0.008668         0.134705   \nPropósito_repairs             -0.020828     0.026828         0.019803   \nPropósito_vacation/others     -0.028058     0.014297        -0.011288   \n\n                               Alojamiento_rent  Cuentas de ahorro_moderate  \\\nEdad                                  -0.212620                   -0.075302   \nTrabajo                               -0.039195                    0.004472   \nMonto de crédito                      -0.024611                    0.013546   \nDuración                              -0.064417                    0.051587   \nRiesgo                                -0.092785                   -0.022255   \nGénero_male                           -0.222845                   -0.000498   \nAlojamiento_own                       -0.735968                   -0.017738   \nAlojamiento_rent                       1.000000                    0.030578   \nCuentas de ahorro_moderate             0.030578                    1.000000   \nCuentas de ahorro_quite rich           0.007762                   -0.087866   \nCuentas de ahorro_rich                 0.004979                   -0.076089   \nCuenta de cheques_moderate            -0.000888                    0.143136   \nCuenta de cheques_rich                -0.035183                   -0.020162   \nPropósito_car                          0.014773                    0.029852   \nPropósito_domestic appliances         -0.003546                   -0.007131   \nPropósito_education                   -0.006211                   -0.015038   \nPropósito_furniture/equipment          0.105700                   -0.082398   \nPropósito_radio/TV                    -0.070414                   -0.013482   \nPropósito_repairs                     -0.034465                    0.016463   \nPropósito_vacation/others             -0.051460                    0.023084   \n\n                               Cuentas de ahorro_quite rich  \\\nEdad                                               0.030988   \nTrabajo                                           -0.037499   \nMonto de crédito                                  -0.064256   \nDuración                                          -0.040257   \nRiesgo                                             0.070954   \nGénero_male                                        0.031414   \nAlojamiento_own                                    0.000737   \nAlojamiento_rent                                   0.007762   \nCuentas de ahorro_moderate                        -0.087866   \nCuentas de ahorro_quite rich                       1.000000   \nCuentas de ahorro_rich                            -0.058224   \nCuenta de cheques_moderate                        -0.055198   \nCuenta de cheques_rich                             0.000525   \nPropósito_car                                     -0.028134   \nPropósito_domestic appliances                      0.047023   \nPropósito_education                               -0.012524   \nPropósito_furniture/equipment                      0.006382   \nPropósito_radio/TV                                 0.049134   \nPropósito_repairs                                 -0.010831   \nPropósito_vacation/others                         -0.028577   \n\n                               Cuentas de ahorro_rich  \\\nEdad                                         0.032007   \nTrabajo                                     -0.017128   \nMonto de crédito                            -0.055542   \nDuración                                    -0.048261   \nRiesgo                                       0.085749   \nGénero_male                                 -0.041673   \nAlojamiento_own                              0.028707   \nAlojamiento_rent                             0.004979   \nCuentas de ahorro_moderate                  -0.076089   \nCuentas de ahorro_quite rich                -0.058224   \nCuentas de ahorro_rich                       1.000000   \nCuenta de cheques_moderate                   0.011478   \nCuenta de cheques_rich                      -0.000462   \nPropósito_car                                0.018052   \nPropósito_domestic appliances               -0.024747   \nPropósito_education                         -0.016518   \nPropósito_furniture/equipment                0.028091   \nPropósito_radio/TV                          -0.046259   \nPropósito_repairs                            0.030106   \nPropósito_vacation/others                   -0.024747   \n\n                               Cuenta de cheques_moderate  \\\nEdad                                            -0.078121   \nTrabajo                                         -0.004059   \nMonto de crédito                                 0.119612   \nDuración                                         0.089452   \nRiesgo                                          -0.119581   \nGénero_male                                     -0.012726   \nAlojamiento_own                                  0.001012   \nAlojamiento_rent                                -0.000888   \nCuentas de ahorro_moderate                       0.143136   \nCuentas de ahorro_quite rich                    -0.055198   \nCuentas de ahorro_rich                           0.011478   \nCuenta de cheques_moderate                       1.000000   \nCuenta de cheques_rich                          -0.157296   \nPropósito_car                                   -0.046053   \nPropósito_domestic appliances                   -0.025433   \nPropósito_education                              0.001235   \nPropósito_furniture/equipment                   -0.056750   \nPropósito_radio/TV                              -0.001607   \nPropósito_repairs                                0.047382   \nPropósito_vacation/others                        0.078121   \n\n                               Cuenta de cheques_rich  Propósito_car  \\\nEdad                                         0.037504       0.099919   \nTrabajo                                     -0.050099       0.036762   \nMonto de crédito                            -0.100510       0.125575   \nDuración                                    -0.076455      -0.005320   \nRiesgo                                       0.044009      -0.022621   \nGénero_male                                 -0.004183       0.047893   \nAlojamiento_own                              0.018934      -0.099526   \nAlojamiento_rent                            -0.035183       0.014773   \nCuentas de ahorro_moderate                  -0.020162       0.029852   \nCuentas de ahorro_quite rich                 0.000525      -0.028134   \nCuentas de ahorro_rich                      -0.000462       0.018052   \nCuenta de cheques_moderate                  -0.157296      -0.046053   \nCuenta de cheques_rich                       1.000000      -0.028134   \nPropósito_car                               -0.028134       1.000000   \nPropósito_domestic appliances                0.009223      -0.078572   \nPropósito_education                          0.004943      -0.178521   \nPropósito_furniture/equipment               -0.004308      -0.335163   \nPropósito_radio/TV                           0.058300      -0.444602   \nPropósito_repairs                           -0.038890      -0.106930   \nPropósito_vacation/others                   -0.028577      -0.078572   \n\n                               Propósito_domestic appliances  \\\nEdad                                               -0.012562   \nTrabajo                                            -0.025979   \nMonto de crédito                                   -0.069268   \nDuración                                           -0.037212   \nRiesgo                                             -0.008016   \nGénero_male                                        -0.045275   \nAlojamiento_own                                     0.029317   \nAlojamiento_rent                                   -0.003546   \nCuentas de ahorro_moderate                         -0.007131   \nCuentas de ahorro_quite rich                        0.047023   \nCuentas de ahorro_rich                             -0.024747   \nCuenta de cheques_moderate                         -0.025433   \nCuenta de cheques_rich                              0.009223   \nPropósito_car                                      -0.078572   \nPropósito_domestic appliances                       1.000000   \nPropósito_education                                -0.027596   \nPropósito_furniture/equipment                      -0.051810   \nPropósito_radio/TV                                 -0.068727   \nPropósito_repairs                                  -0.016529   \nPropósito_vacation/others                          -0.012146   \n\n                               Propósito_education  \\\nEdad                                      0.060390   \nTrabajo                                  -0.021672   \nMonto de crédito                         -0.034796   \nDuración                                 -0.025450   \nRiesgo                                   -0.049085   \nGénero_male                              -0.052397   \nAlojamiento_own                          -0.075684   \nAlojamiento_rent                         -0.006211   \nCuentas de ahorro_moderate               -0.015038   \nCuentas de ahorro_quite rich             -0.012524   \nCuentas de ahorro_rich                   -0.016518   \nCuenta de cheques_moderate                0.001235   \nCuenta de cheques_rich                    0.004943   \nPropósito_car                            -0.178521   \nPropósito_domestic appliances            -0.027596   \nPropósito_education                       1.000000   \nPropósito_furniture/equipment            -0.117714   \nPropósito_radio/TV                       -0.156151   \nPropósito_repairs                        -0.037555   \nPropósito_vacation/others                -0.027596   \n\n                               Propósito_furniture/equipment  \\\nEdad                                               -0.127657   \nTrabajo                                             0.013422   \nMonto de crédito                                   -0.034037   \nDuración                                           -0.062804   \nRiesgo                                             -0.020971   \nGénero_male                                        -0.100467   \nAlojamiento_own                                    -0.040496   \nAlojamiento_rent                                    0.105700   \nCuentas de ahorro_moderate                         -0.082398   \nCuentas de ahorro_quite rich                        0.006382   \nCuentas de ahorro_rich                              0.028091   \nCuenta de cheques_moderate                         -0.056750   \nCuenta de cheques_rich                             -0.004308   \nPropósito_car                                      -0.335163   \nPropósito_domestic appliances                      -0.051810   \nPropósito_education                                -0.117714   \nPropósito_furniture/equipment                       1.000000   \nPropósito_radio/TV                                 -0.293164   \nPropósito_repairs                                  -0.070508   \nPropósito_vacation/others                          -0.051810   \n\n                               Propósito_radio/TV  Propósito_repairs  \\\nEdad                                    -0.046401           0.039567   \nTrabajo                                 -0.027683          -0.092751   \nMonto de crédito                        -0.173203          -0.028875   \nDuración                                -0.044319          -0.022549   \nRiesgo                                   0.106922          -0.020828   \nGénero_male                              0.008668           0.026828   \nAlojamiento_own                          0.134705           0.019803   \nAlojamiento_rent                        -0.070414          -0.034465   \nCuentas de ahorro_moderate              -0.013482           0.016463   \nCuentas de ahorro_quite rich             0.049134          -0.010831   \nCuentas de ahorro_rich                  -0.046259           0.030106   \nCuenta de cheques_moderate              -0.001607           0.047382   \nCuenta de cheques_rich                   0.058300          -0.038890   \nPropósito_car                           -0.444602          -0.106930   \nPropósito_domestic appliances           -0.068727          -0.016529   \nPropósito_education                     -0.156151          -0.037555   \nPropósito_furniture/equipment           -0.293164          -0.070508   \nPropósito_radio/TV                       1.000000          -0.093531   \nPropósito_repairs                       -0.093531           1.000000   \nPropósito_vacation/others               -0.068727          -0.016529   \n\n                               Propósito_vacation/others  \nEdad                                            0.042365  \nTrabajo                                         0.100544  \nMonto de crédito                                0.192893  \nDuración                                        0.104516  \nRiesgo                                         -0.028058  \nGénero_male                                     0.014297  \nAlojamiento_own                                -0.011288  \nAlojamiento_rent                               -0.051460  \nCuentas de ahorro_moderate                      0.023084  \nCuentas de ahorro_quite rich                   -0.028577  \nCuentas de ahorro_rich                         -0.024747  \nCuenta de cheques_moderate                      0.078121  \nCuenta de cheques_rich                         -0.028577  \nPropósito_car                                  -0.078572  \nPropósito_domestic appliances                  -0.012146  \nPropósito_education                            -0.027596  \nPropósito_furniture/equipment                  -0.051810  \nPropósito_radio/TV                             -0.068727  \nPropósito_repairs                              -0.016529  \nPropósito_vacation/others                       1.000000  ",
      "text/html": "<div>\n<style scoped>\n    .dataframe tbody tr th:only-of-type {\n        vertical-align: middle;\n    }\n\n    .dataframe tbody tr th {\n        vertical-align: top;\n    }\n\n    .dataframe thead th {\n        text-align: right;\n    }\n</style>\n<table border=\"1\" class=\"dataframe\">\n  <thead>\n    <tr style=\"text-align: right;\">\n      <th></th>\n      <th>Edad</th>\n      <th>Trabajo</th>\n      <th>Monto de crédito</th>\n      <th>Duración</th>\n      <th>Riesgo</th>\n      <th>Género_male</th>\n      <th>Alojamiento_own</th>\n      <th>Alojamiento_rent</th>\n      <th>Cuentas de ahorro_moderate</th>\n      <th>Cuentas de ahorro_quite rich</th>\n      <th>Cuentas de ahorro_rich</th>\n      <th>Cuenta de cheques_moderate</th>\n      <th>Cuenta de cheques_rich</th>\n      <th>Propósito_car</th>\n      <th>Propósito_domestic appliances</th>\n      <th>Propósito_education</th>\n      <th>Propósito_furniture/equipment</th>\n      <th>Propósito_radio/TV</th>\n      <th>Propósito_repairs</th>\n      <th>Propósito_vacation/others</th>\n    </tr>\n  </thead>\n  <tbody>\n    <tr>\n      <th>Edad</th>\n      <td>1.000000</td>\n      <td>0.015673</td>\n      <td>0.032716</td>\n      <td>-0.036136</td>\n      <td>0.091127</td>\n      <td>0.161694</td>\n      <td>0.006553</td>\n      <td>-0.212620</td>\n      <td>-0.075302</td>\n      <td>0.030988</td>\n      <td>0.032007</td>\n      <td>-0.078121</td>\n      <td>0.037504</td>\n      <td>0.099919</td>\n      <td>-0.012562</td>\n      <td>0.060390</td>\n      <td>-0.127657</td>\n      <td>-0.046401</td>\n      <td>0.039567</td>\n      <td>0.042365</td>\n    </tr>\n    <tr>\n      <th>Trabajo</th>\n      <td>0.015673</td>\n      <td>1.000000</td>\n      <td>0.285385</td>\n      <td>0.210910</td>\n      <td>-0.032735</td>\n      <td>0.070298</td>\n      <td>-0.059393</td>\n      <td>-0.039195</td>\n      <td>0.004472</td>\n      <td>-0.037499</td>\n      <td>-0.017128</td>\n      <td>-0.004059</td>\n      <td>-0.050099</td>\n      <td>0.036762</td>\n      <td>-0.025979</td>\n      <td>-0.021672</td>\n      <td>0.013422</td>\n      <td>-0.027683</td>\n      <td>-0.092751</td>\n      <td>0.100544</td>\n    </tr>\n    <tr>\n      <th>Monto de crédito</th>\n      <td>0.032716</td>\n      <td>0.285385</td>\n      <td>1.000000</td>\n      <td>0.624984</td>\n      <td>-0.154739</td>\n      <td>0.093482</td>\n      <td>-0.117497</td>\n      <td>-0.024611</td>\n      <td>0.013546</td>\n      <td>-0.064256</td>\n      <td>-0.055542</td>\n      <td>0.119612</td>\n      <td>-0.100510</td>\n      <td>0.125575</td>\n      <td>-0.069268</td>\n      <td>-0.034796</td>\n      <td>-0.034037</td>\n      <td>-0.173203</td>\n      <td>-0.028875</td>\n      <td>0.192893</td>\n    </tr>\n    <tr>\n      <th>Duración</th>\n      <td>-0.036136</td>\n      <td>0.210910</td>\n      <td>0.624984</td>\n      <td>1.000000</td>\n      <td>-0.214927</td>\n      <td>0.081432</td>\n      <td>-0.075169</td>\n      <td>-0.064417</td>\n      <td>0.051587</td>\n      <td>-0.040257</td>\n      <td>-0.048261</td>\n      <td>0.089452</td>\n      <td>-0.076455</td>\n      <td>-0.005320</td>\n      <td>-0.037212</td>\n      <td>-0.025450</td>\n      <td>-0.062804</td>\n      <td>-0.044319</td>\n      <td>-0.022549</td>\n      <td>0.104516</td>\n    </tr>\n    <tr>\n      <th>Riesgo</th>\n      <td>0.091127</td>\n      <td>-0.032735</td>\n      <td>-0.154739</td>\n      <td>-0.214927</td>\n      <td>1.000000</td>\n      <td>0.075493</td>\n      <td>0.134589</td>\n      <td>-0.092785</td>\n      <td>-0.022255</td>\n      <td>0.070954</td>\n      <td>0.085749</td>\n      <td>-0.119581</td>\n      <td>0.044009</td>\n      <td>-0.022621</td>\n      <td>-0.008016</td>\n      <td>-0.049085</td>\n      <td>-0.020971</td>\n      <td>0.106922</td>\n      <td>-0.020828</td>\n      <td>-0.028058</td>\n    </tr>\n    <tr>\n      <th>Género_male</th>\n      <td>0.161694</td>\n      <td>0.070298</td>\n      <td>0.093482</td>\n      <td>0.081432</td>\n      <td>0.075493</td>\n      <td>1.000000</td>\n      <td>0.119638</td>\n      <td>-0.222845</td>\n      <td>-0.000498</td>\n      <td>0.031414</td>\n      <td>-0.041673</td>\n      <td>-0.012726</td>\n      <td>-0.004183</td>\n      <td>0.047893</td>\n      <td>-0.045275</td>\n      <td>-0.052397</td>\n      <td>-0.100467</td>\n      <td>0.008668</td>\n      <td>0.026828</td>\n      <td>0.014297</td>\n    </tr>\n    <tr>\n      <th>Alojamiento_own</th>\n      <td>0.006553</td>\n      <td>-0.059393</td>\n      <td>-0.117497</td>\n      <td>-0.075169</td>\n      <td>0.134589</td>\n      <td>0.119638</td>\n      <td>1.000000</td>\n      <td>-0.735968</td>\n      <td>-0.017738</td>\n      <td>0.000737</td>\n      <td>0.028707</td>\n      <td>0.001012</td>\n      <td>0.018934</td>\n      <td>-0.099526</td>\n      <td>0.029317</td>\n      <td>-0.075684</td>\n      <td>-0.040496</td>\n      <td>0.134705</td>\n      <td>0.019803</td>\n      <td>-0.011288</td>\n    </tr>\n    <tr>\n      <th>Alojamiento_rent</th>\n      <td>-0.212620</td>\n      <td>-0.039195</td>\n      <td>-0.024611</td>\n      <td>-0.064417</td>\n      <td>-0.092785</td>\n      <td>-0.222845</td>\n      <td>-0.735968</td>\n      <td>1.000000</td>\n      <td>0.030578</td>\n      <td>0.007762</td>\n      <td>0.004979</td>\n      <td>-0.000888</td>\n      <td>-0.035183</td>\n      <td>0.014773</td>\n      <td>-0.003546</td>\n      <td>-0.006211</td>\n      <td>0.105700</td>\n      <td>-0.070414</td>\n      <td>-0.034465</td>\n      <td>-0.051460</td>\n    </tr>\n    <tr>\n      <th>Cuentas de ahorro_moderate</th>\n      <td>-0.075302</td>\n      <td>0.004472</td>\n      <td>0.013546</td>\n      <td>0.051587</td>\n      <td>-0.022255</td>\n      <td>-0.000498</td>\n      <td>-0.017738</td>\n      <td>0.030578</td>\n      <td>1.000000</td>\n      <td>-0.087866</td>\n      <td>-0.076089</td>\n      <td>0.143136</td>\n      <td>-0.020162</td>\n      <td>0.029852</td>\n      <td>-0.007131</td>\n      <td>-0.015038</td>\n      <td>-0.082398</td>\n      <td>-0.013482</td>\n      <td>0.016463</td>\n      <td>0.023084</td>\n    </tr>\n    <tr>\n      <th>Cuentas de ahorro_quite rich</th>\n      <td>0.030988</td>\n      <td>-0.037499</td>\n      <td>-0.064256</td>\n      <td>-0.040257</td>\n      <td>0.070954</td>\n      <td>0.031414</td>\n      <td>0.000737</td>\n      <td>0.007762</td>\n      <td>-0.087866</td>\n      <td>1.000000</td>\n      <td>-0.058224</td>\n      <td>-0.055198</td>\n      <td>0.000525</td>\n      <td>-0.028134</td>\n      <td>0.047023</td>\n      <td>-0.012524</td>\n      <td>0.006382</td>\n      <td>0.049134</td>\n      <td>-0.010831</td>\n      <td>-0.028577</td>\n    </tr>\n    <tr>\n      <th>Cuentas de ahorro_rich</th>\n      <td>0.032007</td>\n      <td>-0.017128</td>\n      <td>-0.055542</td>\n      <td>-0.048261</td>\n      <td>0.085749</td>\n      <td>-0.041673</td>\n      <td>0.028707</td>\n      <td>0.004979</td>\n      <td>-0.076089</td>\n      <td>-0.058224</td>\n      <td>1.000000</td>\n      <td>0.011478</td>\n      <td>-0.000462</td>\n      <td>0.018052</td>\n      <td>-0.024747</td>\n      <td>-0.016518</td>\n      <td>0.028091</td>\n      <td>-0.046259</td>\n      <td>0.030106</td>\n      <td>-0.024747</td>\n    </tr>\n    <tr>\n      <th>Cuenta de cheques_moderate</th>\n      <td>-0.078121</td>\n      <td>-0.004059</td>\n      <td>0.119612</td>\n      <td>0.089452</td>\n      <td>-0.119581</td>\n      <td>-0.012726</td>\n      <td>0.001012</td>\n      <td>-0.000888</td>\n      <td>0.143136</td>\n      <td>-0.055198</td>\n      <td>0.011478</td>\n      <td>1.000000</td>\n      <td>-0.157296</td>\n      <td>-0.046053</td>\n      <td>-0.025433</td>\n      <td>0.001235</td>\n      <td>-0.056750</td>\n      <td>-0.001607</td>\n      <td>0.047382</td>\n      <td>0.078121</td>\n    </tr>\n    <tr>\n      <th>Cuenta de cheques_rich</th>\n      <td>0.037504</td>\n      <td>-0.050099</td>\n      <td>-0.100510</td>\n      <td>-0.076455</td>\n      <td>0.044009</td>\n      <td>-0.004183</td>\n      <td>0.018934</td>\n      <td>-0.035183</td>\n      <td>-0.020162</td>\n      <td>0.000525</td>\n      <td>-0.000462</td>\n      <td>-0.157296</td>\n      <td>1.000000</td>\n      <td>-0.028134</td>\n      <td>0.009223</td>\n      <td>0.004943</td>\n      <td>-0.004308</td>\n      <td>0.058300</td>\n      <td>-0.038890</td>\n      <td>-0.028577</td>\n    </tr>\n    <tr>\n      <th>Propósito_car</th>\n      <td>0.099919</td>\n      <td>0.036762</td>\n      <td>0.125575</td>\n      <td>-0.005320</td>\n      <td>-0.022621</td>\n      <td>0.047893</td>\n      <td>-0.099526</td>\n      <td>0.014773</td>\n      <td>0.029852</td>\n      <td>-0.028134</td>\n      <td>0.018052</td>\n      <td>-0.046053</td>\n      <td>-0.028134</td>\n      <td>1.000000</td>\n      <td>-0.078572</td>\n      <td>-0.178521</td>\n      <td>-0.335163</td>\n      <td>-0.444602</td>\n      <td>-0.106930</td>\n      <td>-0.078572</td>\n    </tr>\n    <tr>\n      <th>Propósito_domestic appliances</th>\n      <td>-0.012562</td>\n      <td>-0.025979</td>\n      <td>-0.069268</td>\n      <td>-0.037212</td>\n      <td>-0.008016</td>\n      <td>-0.045275</td>\n      <td>0.029317</td>\n      <td>-0.003546</td>\n      <td>-0.007131</td>\n      <td>0.047023</td>\n      <td>-0.024747</td>\n      <td>-0.025433</td>\n      <td>0.009223</td>\n      <td>-0.078572</td>\n      <td>1.000000</td>\n      <td>-0.027596</td>\n      <td>-0.051810</td>\n      <td>-0.068727</td>\n      <td>-0.016529</td>\n      <td>-0.012146</td>\n    </tr>\n    <tr>\n      <th>Propósito_education</th>\n      <td>0.060390</td>\n      <td>-0.021672</td>\n      <td>-0.034796</td>\n      <td>-0.025450</td>\n      <td>-0.049085</td>\n      <td>-0.052397</td>\n      <td>-0.075684</td>\n      <td>-0.006211</td>\n      <td>-0.015038</td>\n      <td>-0.012524</td>\n      <td>-0.016518</td>\n      <td>0.001235</td>\n      <td>0.004943</td>\n      <td>-0.178521</td>\n      <td>-0.027596</td>\n      <td>1.000000</td>\n      <td>-0.117714</td>\n      <td>-0.156151</td>\n      <td>-0.037555</td>\n      <td>-0.027596</td>\n    </tr>\n    <tr>\n      <th>Propósito_furniture/equipment</th>\n      <td>-0.127657</td>\n      <td>0.013422</td>\n      <td>-0.034037</td>\n      <td>-0.062804</td>\n      <td>-0.020971</td>\n      <td>-0.100467</td>\n      <td>-0.040496</td>\n      <td>0.105700</td>\n      <td>-0.082398</td>\n      <td>0.006382</td>\n      <td>0.028091</td>\n      <td>-0.056750</td>\n      <td>-0.004308</td>\n      <td>-0.335163</td>\n      <td>-0.051810</td>\n      <td>-0.117714</td>\n      <td>1.000000</td>\n      <td>-0.293164</td>\n      <td>-0.070508</td>\n      <td>-0.051810</td>\n    </tr>\n    <tr>\n      <th>Propósito_radio/TV</th>\n      <td>-0.046401</td>\n      <td>-0.027683</td>\n      <td>-0.173203</td>\n      <td>-0.044319</td>\n      <td>0.106922</td>\n      <td>0.008668</td>\n      <td>0.134705</td>\n      <td>-0.070414</td>\n      <td>-0.013482</td>\n      <td>0.049134</td>\n      <td>-0.046259</td>\n      <td>-0.001607</td>\n      <td>0.058300</td>\n      <td>-0.444602</td>\n      <td>-0.068727</td>\n      <td>-0.156151</td>\n      <td>-0.293164</td>\n      <td>1.000000</td>\n      <td>-0.093531</td>\n      <td>-0.068727</td>\n    </tr>\n    <tr>\n      <th>Propósito_repairs</th>\n      <td>0.039567</td>\n      <td>-0.092751</td>\n      <td>-0.028875</td>\n      <td>-0.022549</td>\n      <td>-0.020828</td>\n      <td>0.026828</td>\n      <td>0.019803</td>\n      <td>-0.034465</td>\n      <td>0.016463</td>\n      <td>-0.010831</td>\n      <td>0.030106</td>\n      <td>0.047382</td>\n      <td>-0.038890</td>\n      <td>-0.106930</td>\n      <td>-0.016529</td>\n      <td>-0.037555</td>\n      <td>-0.070508</td>\n      <td>-0.093531</td>\n      <td>1.000000</td>\n      <td>-0.016529</td>\n    </tr>\n    <tr>\n      <th>Propósito_vacation/others</th>\n      <td>0.042365</td>\n      <td>0.100544</td>\n      <td>0.192893</td>\n      <td>0.104516</td>\n      <td>-0.028058</td>\n      <td>0.014297</td>\n      <td>-0.011288</td>\n      <td>-0.051460</td>\n      <td>0.023084</td>\n      <td>-0.028577</td>\n      <td>-0.024747</td>\n      <td>0.078121</td>\n      <td>-0.028577</td>\n      <td>-0.078572</td>\n      <td>-0.012146</td>\n      <td>-0.027596</td>\n      <td>-0.051810</td>\n      <td>-0.068727</td>\n      <td>-0.016529</td>\n      <td>1.000000</td>\n    </tr>\n  </tbody>\n</table>\n</div>"
     },
     "metadata": {}
    }
   ]
  },
  {
   "cell_type": "code",
   "metadata": {
    "tags": [],
    "cell_id": "00035-0f42c8ee-6af5-4082-bb26-9538888536d0",
    "deepnote_to_be_reexecuted": false,
    "source_hash": "629a416a",
    "execution_start": 1640216099279,
    "execution_millis": 1204,
    "deepnote_output_heights": [
     467.828125
    ],
    "deepnote_app_coordinates": {
     "x": 0,
     "y": 210,
     "w": 12,
     "h": 5
    },
    "deepnote_cell_type": "code"
   },
   "source": "# Gráfica de matriz de correlación\nplt.figure(figsize=(10,6))\nsns.heatmap(credit_risk.corr(), vmax = 0.9, square= True)\nplt.title(\"Matriz de correlación de Pearson\")\nplt.show()",
   "execution_count": null,
   "outputs": [
    {
     "data": {
      "text/plain": "<Figure size 720x432 with 2 Axes>",
      "image/png": "[encoded data removed]"
     },
     "metadata": {
      "needs_background": "light",
      "image/png": {
       "width": 576,
       "height": 517
      }
     },
     "output_type": "display_data"
    }
   ]
  },
  {
   "cell_type": "markdown",
   "source": "### 5. Modelo de clasificación con scikit-learn\nEn esta sección vamos a crear 4 algoritmos de clasificación con la libreria scikit-learn como lo son arboles de decisión, bosques aleatorios, regresión logística y máquinas de vectores de soporte.",
   "metadata": {
    "tags": [],
    "cell_id": "00036-faa271dd-b455-4b8a-b9f4-43e05fa793e5",
    "deepnote_app_coordinates": {
     "x": 0,
     "y": 216,
     "w": 12,
     "h": 5
    },
    "deepnote_cell_type": "markdown"
   }
  },
  {
   "cell_type": "code",
   "metadata": {
    "tags": [],
    "cell_id": "00037-694dcef6-216c-48dc-ab73-7eb0fbd00443",
    "deepnote_to_be_reexecuted": false,
    "source_hash": "e48557e0",
    "execution_start": 1640216879080,
    "execution_millis": 3,
    "deepnote_app_coordinates": {
     "x": 0,
     "y": 222,
     "w": 12,
     "h": 5
    },
    "deepnote_cell_type": "code"
   },
   "source": "# Creamos nuestra varible dependiente y independientes\nX = credit_risk.drop([\"Riesgo\"],axis=1) # Varibles independientes o explicativas\nY = credit_risk[\"Riesgo\"] # Variable dependiente riesgo crediticio",
   "execution_count": null,
   "outputs": []
  },
  {
   "cell_type": "code",
   "metadata": {
    "tags": [],
    "cell_id": "00038-3267c174-78bf-4276-92a6-b61712506a7b",
    "deepnote_to_be_reexecuted": false,
    "source_hash": "52cae0c0",
    "execution_start": 1640216893464,
    "execution_millis": 3,
    "deepnote_app_coordinates": {
     "x": 0,
     "y": 228,
     "w": 12,
     "h": 5
    },
    "deepnote_cell_type": "code"
   },
   "source": "# Dividimos nuestros datos\nX_train, X_test, Y_train, Y_test = train_test_split(X, Y, test_size= 0.2, random_state= 0)",
   "execution_count": null,
   "outputs": []
  },
  {
   "cell_type": "markdown",
   "source": "### 5.1 Arboles de decisión",
   "metadata": {
    "tags": [],
    "cell_id": "00039-3a6259b1-1c07-4c80-b61c-6168e114714e",
    "deepnote_app_coordinates": {
     "x": 0,
     "y": 234,
     "w": 12,
     "h": 5
    },
    "deepnote_cell_type": "markdown"
   }
  },
  {
   "cell_type": "code",
   "metadata": {
    "tags": [],
    "cell_id": "00040-b777b851-9e86-49b0-bec1-debcaf84b2dd",
    "deepnote_to_be_reexecuted": false,
    "source_hash": "15e85ef9",
    "execution_start": 1640217223464,
    "execution_millis": 10,
    "deepnote_app_coordinates": {
     "x": 0,
     "y": 240,
     "w": 12,
     "h": 5
    },
    "deepnote_cell_type": "code"
   },
   "source": "# Procedemos a aplicar nuestro algoritmo\narbol_decisión = DecisionTreeClassifier(criterion= \"entropy\")\narbol_decisión.fit(X_train, Y_train) # Ejecución del modelo\nY_pred_arbol = arbol_decisión.predict(X_test)\n",
   "execution_count": null,
   "outputs": []
  },
  {
   "cell_type": "code",
   "metadata": {
    "tags": [],
    "cell_id": "00041-7002a398-3883-4e70-aaf5-12d15f0443f5",
    "deepnote_to_be_reexecuted": false,
    "source_hash": "d00ce33e",
    "execution_start": 1640217515359,
    "execution_millis": 10,
    "deepnote_output_heights": [
     40
    ],
    "deepnote_app_coordinates": {
     "x": 0,
     "y": 246,
     "w": 12,
     "h": 5
    },
    "deepnote_cell_type": "code"
   },
   "source": "# Creamos la matriz de confusión \nmatriz_arbol = metrics.confusion_matrix(Y_test, Y_pred_arbol)\nmatriz_arbol",
   "execution_count": null,
   "outputs": [
    {
     "output_type": "execute_result",
     "execution_count": 41,
     "data": {
      "text/plain": "array([[ 23,  35],\n       [ 40, 102]])"
     },
     "metadata": {}
    }
   ]
  },
  {
   "cell_type": "code",
   "metadata": {
    "tags": [],
    "cell_id": "00042-27fa6ff2-99f6-48c4-a084-7bb389bc3a93",
    "deepnote_to_be_reexecuted": false,
    "source_hash": "ffe5aea0",
    "execution_start": 1640217522666,
    "execution_millis": 331,
    "deepnote_output_heights": [
     21,
     323
    ],
    "deepnote_app_coordinates": {
     "x": 0,
     "y": 252,
     "w": 12,
     "h": 5
    },
    "deepnote_cell_type": "code"
   },
   "source": "# Gráficamos la matriz de confusión\nclass_names = [0, 1]\nfig, ax = plt.subplots()\ntick_marks = np.arange(len(class_names))\nplt.xticks(tick_marks, class_names)\nplt.yticks(tick_marks, class_names)\n\nsns.heatmap(pd.DataFrame(matriz_arbol), annot = True, cmap = \"rocket\", fmt = \"g\")\nax.xaxis.set_label_position(\"top\")\nplt.tight_layout()\nplt.title(\"Matriz de confusión\", y = 1.1)\nplt.ylabel(\"Etiqueta actual\")\nplt.xlabel(\"Etiqueta de predicción\")",
   "execution_count": null,
   "outputs": [
    {
     "output_type": "execute_result",
     "execution_count": 42,
     "data": {
      "text/plain": "Text(0.5, 257.44, 'Etiqueta de predicción')"
     },
     "metadata": {}
    },
    {
     "data": {
      "text/plain": "<Figure size 432x288 with 2 Axes>",
      "image/png": "[encoded data removed]"
     },
     "metadata": {
      "needs_background": "light",
      "image/png": {
       "width": 418,
       "height": 321
      }
     },
     "output_type": "display_data"
    }
   ]
  },
  {
   "cell_type": "code",
   "metadata": {
    "tags": [],
    "cell_id": "00043-0aa4fc69-de05-4741-a7b7-e7972cec585f",
    "deepnote_to_be_reexecuted": false,
    "source_hash": "720816ba",
    "execution_start": 1640217559411,
    "execution_millis": 8,
    "deepnote_app_coordinates": {
     "x": 0,
     "y": 258,
     "w": 12,
     "h": 5
    },
    "deepnote_cell_type": "code"
   },
   "source": "# Exactitud del modelo\nprint(\"Exactitud\", metrics.accuracy_score(Y_test, Y_pred_arbol))",
   "execution_count": null,
   "outputs": [
    {
     "name": "stdout",
     "text": "Exactitud 0.625\n",
     "output_type": "stream",
     "data": {}
    }
   ]
  },
  {
   "cell_type": "markdown",
   "source": "### 5.2 Bosques aleatorios",
   "metadata": {
    "tags": [],
    "cell_id": "00044-5456072e-30bb-4cf7-8395-1a4005ddd699",
    "deepnote_app_coordinates": {
     "x": 0,
     "y": 264,
     "w": 12,
     "h": 5
    },
    "deepnote_cell_type": "markdown"
   }
  },
  {
   "cell_type": "code",
   "metadata": {
    "tags": [],
    "cell_id": "00045-9754b28e-5bc8-47d8-b2b2-c59d13a67436",
    "deepnote_to_be_reexecuted": false,
    "source_hash": "74d81ae9",
    "execution_start": 1640217887526,
    "execution_millis": 43,
    "deepnote_app_coordinates": {
     "x": 0,
     "y": 270,
     "w": 12,
     "h": 5
    },
    "deepnote_cell_type": "code"
   },
   "source": "# Procedemos a aplicar nuestro algoritmo\nbosques_aleatorios = RandomForestClassifier(n_estimators=10, criterion=\"entropy\")\nbosques_aleatorios.fit(X_train, Y_train) # Ejecución del modelo\nY_pred_bosques = bosques_aleatorios.predict(X_test)",
   "execution_count": null,
   "outputs": []
  },
  {
   "cell_type": "code",
   "metadata": {
    "tags": [],
    "cell_id": "00046-1b92d359-1a98-4016-b9dc-536da66ea2d4",
    "deepnote_to_be_reexecuted": false,
    "source_hash": "5b87239c",
    "execution_start": 1640217919496,
    "execution_millis": 9,
    "deepnote_output_heights": [
     40
    ],
    "deepnote_app_coordinates": {
     "x": 0,
     "y": 276,
     "w": 12,
     "h": 5
    },
    "deepnote_cell_type": "code"
   },
   "source": "# Creamos la matriz de confusión \nmatriz_bosques = metrics.confusion_matrix(Y_test, Y_pred_bosques)\nmatriz_bosques",
   "execution_count": null,
   "outputs": [
    {
     "output_type": "execute_result",
     "execution_count": 46,
     "data": {
      "text/plain": "array([[ 25,  33],\n       [ 27, 115]])"
     },
     "metadata": {}
    }
   ]
  },
  {
   "cell_type": "code",
   "metadata": {
    "tags": [],
    "cell_id": "00047-7b52a993-1afa-45a9-9edf-de033e3c6be6",
    "deepnote_to_be_reexecuted": false,
    "source_hash": "518f8894",
    "execution_start": 1640217957500,
    "execution_millis": 395,
    "deepnote_output_heights": [
     21,
     323
    ],
    "deepnote_app_coordinates": {
     "x": 0,
     "y": 282,
     "w": 12,
     "h": 5
    },
    "deepnote_cell_type": "code"
   },
   "source": "# Gráficamos la matriz de confusión\nclass_names = [0, 1]\nfig, ax = plt.subplots()\ntick_marks = np.arange(len(class_names))\nplt.xticks(tick_marks, class_names)\nplt.yticks(tick_marks, class_names)\n\nsns.heatmap(pd.DataFrame(matriz_bosques), annot = True, cmap = \"viridis\", fmt = \"g\")\nax.xaxis.set_label_position(\"top\")\nplt.tight_layout()\nplt.title(\"Matriz de confusión\", y = 1.1)\nplt.ylabel(\"Etiqueta actual\")\nplt.xlabel(\"Etiqueta de predicción\")",
   "execution_count": null,
   "outputs": [
    {
     "output_type": "execute_result",
     "execution_count": 47,
     "data": {
      "text/plain": "Text(0.5, 257.44, 'Etiqueta de predicción')"
     },
     "metadata": {}
    },
    {
     "data": {
      "text/plain": "<Figure size 432x288 with 2 Axes>",
      "image/png": "[encoded data removed]"
     },
     "metadata": {
      "needs_background": "light",
      "image/png": {
       "width": 418,
       "height": 321
      }
     },
     "output_type": "display_data"
    }
   ]
  },
  {
   "cell_type": "code",
   "metadata": {
    "tags": [],
    "cell_id": "00048-25234a63-1e4d-4fc2-a672-e26dc7b75678",
    "deepnote_to_be_reexecuted": false,
    "source_hash": "df94d081",
    "execution_start": 1640218018032,
    "execution_millis": 336,
    "deepnote_app_coordinates": {
     "x": 0,
     "y": 288,
     "w": 12,
     "h": 5
    },
    "deepnote_cell_type": "code"
   },
   "source": "# Exactitud del modelo\nprint(\"Exactitud\", metrics.accuracy_score(Y_test, Y_pred_bosques))",
   "execution_count": null,
   "outputs": [
    {
     "name": "stdout",
     "text": "Exactitud 0.7\n",
     "output_type": "stream",
     "data": {}
    }
   ]
  },
  {
   "cell_type": "markdown",
   "source": "### 5.3 Regresión logística",
   "metadata": {
    "tags": [],
    "cell_id": "00049-a04a71e4-ce58-4079-99a1-1ba9efb227b5",
    "deepnote_app_coordinates": {
     "x": 0,
     "y": 294,
     "w": 12,
     "h": 5
    },
    "deepnote_cell_type": "markdown"
   }
  },
  {
   "cell_type": "code",
   "metadata": {
    "tags": [],
    "cell_id": "00050-fd210401-292a-4195-afcb-2b824801f108",
    "deepnote_to_be_reexecuted": false,
    "source_hash": "d663013f",
    "execution_start": 1640218081940,
    "execution_millis": 63,
    "deepnote_app_coordinates": {
     "x": 0,
     "y": 300,
     "w": 12,
     "h": 5
    },
    "deepnote_cell_type": "code"
   },
   "source": "# Procedemos aplicar nuestro algoritmo\nlogreg = LogisticRegression()\nlogreg.fit(X_train, Y_train) # Ejecución del modelo\nY_pred_log = logreg.predict(X_test)",
   "execution_count": null,
   "outputs": [
    {
     "name": "stderr",
     "text": "/shared-libs/python3.7/py/lib/python3.7/site-packages/sklearn/linear_model/_logistic.py:818: ConvergenceWarning: lbfgs failed to converge (status=1):\nSTOP: TOTAL NO. of ITERATIONS REACHED LIMIT.\n\nIncrease the number of iterations (max_iter) or scale the data as shown in:\n    https://scikit-learn.org/stable/modules/preprocessing.html\nPlease also refer to the documentation for alternative solver options:\n    https://scikit-learn.org/stable/modules/linear_model.html#logistic-regression\n  extra_warning_msg=_LOGISTIC_SOLVER_CONVERGENCE_MSG,\n",
     "output_type": "stream",
     "data": {}
    }
   ]
  },
  {
   "cell_type": "code",
   "metadata": {
    "tags": [],
    "cell_id": "00051-ba502a9e-7f46-405a-913b-4349a18eecba",
    "deepnote_to_be_reexecuted": false,
    "source_hash": "62bc0b75",
    "execution_start": 1640218118287,
    "execution_millis": 5,
    "deepnote_output_heights": [
     40
    ],
    "deepnote_app_coordinates": {
     "x": 0,
     "y": 306,
     "w": 12,
     "h": 5
    },
    "deepnote_cell_type": "code"
   },
   "source": "# Creamos una matriz de confusión\nmatriz_log = metrics.confusion_matrix(Y_test, Y_pred_log)\nmatriz_log",
   "execution_count": null,
   "outputs": [
    {
     "output_type": "execute_result",
     "execution_count": 51,
     "data": {
      "text/plain": "array([[ 11,  47],\n       [ 12, 130]])"
     },
     "metadata": {}
    }
   ]
  },
  {
   "cell_type": "code",
   "metadata": {
    "tags": [],
    "cell_id": "00052-a39ea0aa-697e-485f-9645-a7f9604d576e",
    "deepnote_to_be_reexecuted": false,
    "source_hash": "7208780d",
    "execution_start": 1640218145480,
    "execution_millis": 351,
    "deepnote_output_heights": [
     21,
     323
    ],
    "deepnote_app_coordinates": {
     "x": 0,
     "y": 312,
     "w": 12,
     "h": 5
    },
    "deepnote_cell_type": "code"
   },
   "source": "# Gráficamos la matriz de confusión\nclass_names = [0, 1]\nfig, ax = plt.subplots()\ntick_marks = np.arange(len(class_names))\nplt.xticks(tick_marks, class_names)\nplt.yticks(tick_marks, class_names)\n\nsns.heatmap(pd.DataFrame(matriz_log), annot = True, cmap = \"Blues_r\", fmt = \"g\")\nax.xaxis.set_label_position(\"top\")\nplt.tight_layout()\nplt.title(\"Matriz de confusión\", y = 1.1)\nplt.ylabel(\"Etiqueta actual\")\nplt.xlabel(\"Etiqueta de predicción\")",
   "execution_count": null,
   "outputs": [
    {
     "output_type": "execute_result",
     "execution_count": 52,
     "data": {
      "text/plain": "Text(0.5, 257.44, 'Etiqueta de predicción')"
     },
     "metadata": {}
    },
    {
     "data": {
      "text/plain": "<Figure size 432x288 with 2 Axes>",
      "image/png": "[encoded data removed]"
     },
     "metadata": {
      "needs_background": "light",
      "image/png": {
       "width": 418,
       "height": 321
      }
     },
     "output_type": "display_data"
    }
   ]
  },
  {
   "cell_type": "code",
   "metadata": {
    "tags": [],
    "cell_id": "00053-dc0a3af4-c611-4d20-9040-8d1ef505f9e7",
    "deepnote_to_be_reexecuted": false,
    "source_hash": "1abac94b",
    "execution_start": 1640218173980,
    "execution_millis": 8,
    "deepnote_app_coordinates": {
     "x": 0,
     "y": 318,
     "w": 12,
     "h": 5
    },
    "deepnote_cell_type": "code"
   },
   "source": "# Exactitud del modelo\nprint(\"Exactitud\", metrics.accuracy_score(Y_test, Y_pred_log))",
   "execution_count": null,
   "outputs": [
    {
     "name": "stdout",
     "text": "Exactitud 0.705\n",
     "output_type": "stream",
     "data": {}
    }
   ]
  },
  {
   "cell_type": "markdown",
   "source": "### 5.4 Máquinas de vectores de soporte",
   "metadata": {
    "tags": [],
    "cell_id": "00054-584070f0-6429-427b-8071-a95f2f23ee38",
    "deepnote_app_coordinates": {
     "x": 0,
     "y": 324,
     "w": 12,
     "h": 5
    },
    "deepnote_cell_type": "markdown"
   }
  },
  {
   "cell_type": "code",
   "metadata": {
    "tags": [],
    "cell_id": "00055-35e684da-eab0-43e4-96cf-4e51e3485981",
    "deepnote_to_be_reexecuted": false,
    "source_hash": "5bdb6ede",
    "execution_start": 1640218778694,
    "execution_millis": 147603,
    "deepnote_app_coordinates": {
     "x": 0,
     "y": 330,
     "w": 12,
     "h": 5
    },
    "deepnote_cell_type": "code"
   },
   "source": "# Procedemos aplicar nuestro algoritmo\nvcs = SVC(kernel=\"linear\")\nvcs.fit(X_train, Y_train) # Ejecución del modelo\nY_pred_vcs = vcs.predict(X_test)",
   "execution_count": null,
   "outputs": []
  },
  {
   "cell_type": "code",
   "metadata": {
    "tags": [],
    "cell_id": "00056-d128e622-4cd7-4115-b69a-256162a63c67",
    "deepnote_to_be_reexecuted": false,
    "source_hash": "85e433b6",
    "execution_start": 1640218955555,
    "execution_millis": 8,
    "deepnote_output_heights": [
     40
    ],
    "deepnote_app_coordinates": {
     "x": 0,
     "y": 336,
     "w": 12,
     "h": 5
    },
    "deepnote_cell_type": "code"
   },
   "source": "# Creamos una matriz de confusión\nmatriz_vcs = metrics.confusion_matrix(Y_test, Y_pred_vcs)\nmatriz_vcs",
   "execution_count": null,
   "outputs": [
    {
     "output_type": "execute_result",
     "execution_count": 56,
     "data": {
      "text/plain": "array([[  8,  50],\n       [  6, 136]])"
     },
     "metadata": {}
    }
   ]
  },
  {
   "cell_type": "code",
   "metadata": {
    "tags": [],
    "cell_id": "00057-15ec0542-7a92-4de4-949c-8fd92232de78",
    "deepnote_to_be_reexecuted": false,
    "source_hash": "5d6a0df",
    "execution_start": 1640219062031,
    "execution_millis": 328,
    "deepnote_output_heights": [
     21,
     323
    ],
    "deepnote_app_coordinates": {
     "x": 0,
     "y": 342,
     "w": 12,
     "h": 5
    },
    "deepnote_cell_type": "code"
   },
   "source": "# Gráficamos la matriz de confusión\nclass_names = [0, 1]\nfig, ax = plt.subplots()\ntick_marks = np.arange(len(class_names))\nplt.xticks(tick_marks, class_names)\nplt.yticks(tick_marks, class_names)\n\nsns.heatmap(pd.DataFrame(matriz_vcs), annot = True, cmap = \"Spectral\", fmt = \"g\")\nax.xaxis.set_label_position(\"top\")\nplt.tight_layout()\nplt.title(\"Matriz de confusión\", y = 1.1)\nplt.ylabel(\"Etiqueta actual\")\nplt.xlabel(\"Etiqueta de predicción\")",
   "execution_count": null,
   "outputs": [
    {
     "output_type": "execute_result",
     "execution_count": 60,
     "data": {
      "text/plain": "Text(0.5, 257.44, 'Etiqueta de predicción')"
     },
     "metadata": {}
    },
    {
     "data": {
      "text/plain": "<Figure size 432x288 with 2 Axes>",
      "image/png": "[encoded data removed]"
     },
     "metadata": {
      "needs_background": "light",
      "image/png": {
       "width": 418,
       "height": 321
      }
     },
     "output_type": "display_data"
    }
   ]
  },
  {
   "cell_type": "code",
   "metadata": {
    "tags": [],
    "cell_id": "00058-24e93ff1-d820-479b-83cb-dbdafb3d6de2",
    "deepnote_to_be_reexecuted": false,
    "source_hash": "e905b433",
    "execution_start": 1640219095399,
    "execution_millis": 7,
    "deepnote_app_coordinates": {
     "x": 0,
     "y": 348,
     "w": 12,
     "h": 5
    },
    "deepnote_cell_type": "code"
   },
   "source": "# Exactitud del modelo\nprint(\"Exactitud\", metrics.accuracy_score(Y_test, Y_pred_vcs))",
   "execution_count": null,
   "outputs": [
    {
     "name": "stdout",
     "text": "Exactitud 0.72\n",
     "output_type": "stream",
     "data": {}
    }
   ]
  },
  {
   "cell_type": "markdown",
   "source": "### 6. Conclusiones\nEn conclusión, gráficamente podemos apreciar una fuerte correlación entre la edad y monto del crédito. Con respecto al género los hombres son los que piden mas credítos. Tambien podemos observar que los datos de las personas con estatus económico alto se correlacionan con un buen crédito. Además, el número de credítos mas alto es para la adquisición de un carro.\n\nCon respecto a la precisión de nuestros modelos estos estan entre un 62% a 72%. Esto puede deberse a los datos faltantes en cuentas de ahorro y cheques, además de la falta de variables socioeconómicas como lo son el ingreso, número de personas en su hogar, etc. Igualmente, el número de datos no es suficiente para lograr una clasificación de riesgo mas adecuada. ",
   "metadata": {
    "tags": [],
    "cell_id": "00059-f846e378-f5c5-47d2-985d-db26c8f7b9ef",
    "deepnote_app_coordinates": {
     "x": 0,
     "y": 354,
     "w": 12,
     "h": 5
    },
    "deepnote_cell_type": "markdown"
   }
  },
  {
   "cell_type": "markdown",
   "source": "<a style='text-decoration:none;line-height:16px;display:flex;color:#5B5B62;padding:10px;justify-content:end;' href='https://deepnote.com?utm_source=created-in-deepnote-cell&projectId=8744db29-f67f-462d-98ef-b6b26573fbc9' target=\"_blank\">\n<img alt='Created in deepnote.com' style='display:inline;max-height:16px;margin:0px;margin-right:7.5px;' src='data:image/svg+xml;base64,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' > </img>\nCreated in <span style='font-weight:600;margin-left:4px;'>Deepnote</span></a>",
   "metadata": {
    "tags": [],
    "created_in_deepnote_cell": true,
    "deepnote_cell_type": "markdown"
   }
  }
 ],
 "nbformat": 4,
 "nbformat_minor": 2,
 "metadata": {
  "orig_nbformat": 2,
  "deepnote": {
   "is_reactive": false
  },
  "deepnote_notebook_id": "9bd424d2-6252-43a4-8485-4f39b484c8e5",
  "deepnote_execution_queue": [],
  "deepnote_app_layout": "article"
 }
}